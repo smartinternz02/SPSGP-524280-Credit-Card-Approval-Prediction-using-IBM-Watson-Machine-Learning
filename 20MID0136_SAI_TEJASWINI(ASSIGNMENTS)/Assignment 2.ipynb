{
 "cells": [
  {
   "cell_type": "markdown",
   "id": "f4912037",
   "metadata": {},
   "source": [
    "EPURU SAI TEJASWINI"
   ]
  },
  {
   "cell_type": "markdown",
   "id": "93b47e4c",
   "metadata": {},
   "source": [
    "20MID0136"
   ]
  },
  {
   "cell_type": "markdown",
   "id": "a489038e",
   "metadata": {},
   "source": [
    "ADS Assignment 2\n",
    "Titanic Ship Case Study"
   ]
  },
  {
   "cell_type": "code",
   "execution_count": 2,
   "id": "8eec78e0",
   "metadata": {},
   "outputs": [],
   "source": [
    "import pandas as pd\n",
    "import numpy as np\n",
    "import warnings\n",
    "warnings.filterwarnings(\"ignore\")"
   ]
  },
  {
   "cell_type": "markdown",
   "id": "0c2c5467",
   "metadata": {},
   "source": [
    "# Load the dataset."
   ]
  },
  {
   "cell_type": "code",
   "execution_count": 3,
   "id": "8d0e4347",
   "metadata": {},
   "outputs": [
    {
     "data": {
      "text/html": [
       "<div>\n",
       "<style scoped>\n",
       "    .dataframe tbody tr th:only-of-type {\n",
       "        vertical-align: middle;\n",
       "    }\n",
       "\n",
       "    .dataframe tbody tr th {\n",
       "        vertical-align: top;\n",
       "    }\n",
       "\n",
       "    .dataframe thead th {\n",
       "        text-align: right;\n",
       "    }\n",
       "</style>\n",
       "<table border=\"1\" class=\"dataframe\">\n",
       "  <thead>\n",
       "    <tr style=\"text-align: right;\">\n",
       "      <th></th>\n",
       "      <th>survived</th>\n",
       "      <th>pclass</th>\n",
       "      <th>sex</th>\n",
       "      <th>age</th>\n",
       "      <th>sibsp</th>\n",
       "      <th>parch</th>\n",
       "      <th>fare</th>\n",
       "      <th>embarked</th>\n",
       "      <th>class</th>\n",
       "      <th>who</th>\n",
       "      <th>adult_male</th>\n",
       "      <th>deck</th>\n",
       "      <th>embark_town</th>\n",
       "      <th>alive</th>\n",
       "      <th>alone</th>\n",
       "    </tr>\n",
       "  </thead>\n",
       "  <tbody>\n",
       "    <tr>\n",
       "      <th>0</th>\n",
       "      <td>0</td>\n",
       "      <td>3</td>\n",
       "      <td>male</td>\n",
       "      <td>22.0</td>\n",
       "      <td>1</td>\n",
       "      <td>0</td>\n",
       "      <td>7.2500</td>\n",
       "      <td>S</td>\n",
       "      <td>Third</td>\n",
       "      <td>man</td>\n",
       "      <td>True</td>\n",
       "      <td>NaN</td>\n",
       "      <td>Southampton</td>\n",
       "      <td>no</td>\n",
       "      <td>False</td>\n",
       "    </tr>\n",
       "    <tr>\n",
       "      <th>1</th>\n",
       "      <td>1</td>\n",
       "      <td>1</td>\n",
       "      <td>female</td>\n",
       "      <td>38.0</td>\n",
       "      <td>1</td>\n",
       "      <td>0</td>\n",
       "      <td>71.2833</td>\n",
       "      <td>C</td>\n",
       "      <td>First</td>\n",
       "      <td>woman</td>\n",
       "      <td>False</td>\n",
       "      <td>C</td>\n",
       "      <td>Cherbourg</td>\n",
       "      <td>yes</td>\n",
       "      <td>False</td>\n",
       "    </tr>\n",
       "    <tr>\n",
       "      <th>2</th>\n",
       "      <td>1</td>\n",
       "      <td>3</td>\n",
       "      <td>female</td>\n",
       "      <td>26.0</td>\n",
       "      <td>0</td>\n",
       "      <td>0</td>\n",
       "      <td>7.9250</td>\n",
       "      <td>S</td>\n",
       "      <td>Third</td>\n",
       "      <td>woman</td>\n",
       "      <td>False</td>\n",
       "      <td>NaN</td>\n",
       "      <td>Southampton</td>\n",
       "      <td>yes</td>\n",
       "      <td>True</td>\n",
       "    </tr>\n",
       "    <tr>\n",
       "      <th>3</th>\n",
       "      <td>1</td>\n",
       "      <td>1</td>\n",
       "      <td>female</td>\n",
       "      <td>35.0</td>\n",
       "      <td>1</td>\n",
       "      <td>0</td>\n",
       "      <td>53.1000</td>\n",
       "      <td>S</td>\n",
       "      <td>First</td>\n",
       "      <td>woman</td>\n",
       "      <td>False</td>\n",
       "      <td>C</td>\n",
       "      <td>Southampton</td>\n",
       "      <td>yes</td>\n",
       "      <td>False</td>\n",
       "    </tr>\n",
       "    <tr>\n",
       "      <th>4</th>\n",
       "      <td>0</td>\n",
       "      <td>3</td>\n",
       "      <td>male</td>\n",
       "      <td>35.0</td>\n",
       "      <td>0</td>\n",
       "      <td>0</td>\n",
       "      <td>8.0500</td>\n",
       "      <td>S</td>\n",
       "      <td>Third</td>\n",
       "      <td>man</td>\n",
       "      <td>True</td>\n",
       "      <td>NaN</td>\n",
       "      <td>Southampton</td>\n",
       "      <td>no</td>\n",
       "      <td>True</td>\n",
       "    </tr>\n",
       "  </tbody>\n",
       "</table>\n",
       "</div>"
      ],
      "text/plain": [
       "   survived  pclass     sex   age  sibsp  parch     fare embarked  class  \\\n",
       "0         0       3    male  22.0      1      0   7.2500        S  Third   \n",
       "1         1       1  female  38.0      1      0  71.2833        C  First   \n",
       "2         1       3  female  26.0      0      0   7.9250        S  Third   \n",
       "3         1       1  female  35.0      1      0  53.1000        S  First   \n",
       "4         0       3    male  35.0      0      0   8.0500        S  Third   \n",
       "\n",
       "     who  adult_male deck  embark_town alive  alone  \n",
       "0    man        True  NaN  Southampton    no  False  \n",
       "1  woman       False    C    Cherbourg   yes  False  \n",
       "2  woman       False  NaN  Southampton   yes   True  \n",
       "3  woman       False    C  Southampton   yes  False  \n",
       "4    man        True  NaN  Southampton    no   True  "
      ]
     },
     "execution_count": 3,
     "metadata": {},
     "output_type": "execute_result"
    }
   ],
   "source": [
    "df= pd.read_csv(\"D:\\\\SMART BRIDGE\\\\datasets\\\\titanic.csv\")\n",
    "df.head()"
   ]
  },
  {
   "cell_type": "markdown",
   "id": "acf40139",
   "metadata": {},
   "source": [
    "# Univariate analysis"
   ]
  },
  {
   "cell_type": "code",
   "execution_count": 5,
   "id": "6890917c",
   "metadata": {},
   "outputs": [
    {
     "data": {
      "text/plain": [
       "(array([732., 106.,  31.,   2.,  11.,   6.,   0.,   0.,   0.,   3.]),\n",
       " array([  0.     ,  51.23292, 102.46584, 153.69876, 204.93168, 256.1646 ,\n",
       "        307.39752, 358.63044, 409.86336, 461.09628, 512.3292 ]),\n",
       " <BarContainer object of 10 artists>)"
      ]
     },
     "execution_count": 5,
     "metadata": {},
     "output_type": "execute_result"
    },
    {
     "data": {
      "image/png": "[encoded data removed]",
      "text/plain": [
       "<Figure size 640x480 with 1 Axes>"
      ]
     },
     "metadata": {},
     "output_type": "display_data"
    }
   ],
   "source": [
    "import matplotlib.pyplot as plt\n",
    "import seaborn as sns\n",
    "plt.hist(df['fare'])"
   ]
  },
  {
   "cell_type": "code",
   "execution_count": 6,
   "id": "889416d9",
   "metadata": {},
   "outputs": [
    {
     "name": "stdout",
     "output_type": "stream",
     "text": [
      "3    491\n",
      "1    216\n",
      "2    184\n",
      "Name: pclass, dtype: int64\n"
     ]
    }
   ],
   "source": [
    "#Pie chart(Uni-variate analysis)\n",
    "a=df['pclass'].value_counts()\n",
    "print(a)\n",
    "list=df['pclass'].unique()"
   ]
  },
  {
   "cell_type": "code",
   "execution_count": 7,
   "id": "18a7b64a",
   "metadata": {},
   "outputs": [
    {
     "data": {
      "text/plain": [
       "Text(0.5, 1.0, 'Passenger class')"
      ]
     },
     "execution_count": 7,
     "metadata": {},
     "output_type": "execute_result"
    },
    {
     "data": {
      "image/png": "[encoded data removed]",
      "text/plain": [
       "<Figure size 640x480 with 1 Axes>"
      ]
     },
     "metadata": {},
     "output_type": "display_data"
    }
   ],
   "source": [
    "plt.pie(a,autopct='%.2f',labels=list)\n",
    "plt.legend()\n",
    "plt.title(\"Passenger class\")"
   ]
  },
  {
   "cell_type": "markdown",
   "id": "428eff66",
   "metadata": {},
   "source": [
    "# Bi-variate analysis"
   ]
  },
  {
   "cell_type": "code",
   "execution_count": 9,
   "id": "99b5a1ab",
   "metadata": {},
   "outputs": [
    {
     "data": {
      "image/png": "[encoded data removed]",
      "text/plain": [
       "<Figure size 640x480 with 1 Axes>"
      ]
     },
     "metadata": {},
     "output_type": "display_data"
    },
    {
     "data": {
      "image/png": "[encoded data removed]",
      "text/plain": [
       "<Figure size 640x480 with 1 Axes>"
      ]
     },
     "metadata": {},
     "output_type": "display_data"
    }
   ],
   "source": [
    "\n",
    "# Bar Plot of Survival by Gender\n",
    "sns.barplot(x='sex', y='survived', data=df)\n",
    "plt.xlabel('Gender')\n",
    "plt.ylabel('Survival Rate')\n",
    "plt.title('Survival Rate by Gender')\n",
    "plt.show()\n",
    "\n",
    "# Box Plot of Fare by Passenger Class\n",
    "sns.boxplot(x='pclass', y='fare', data=df)\n",
    "plt.xlabel('Passenger Class')\n",
    "plt.ylabel('Fare')\n",
    "plt.title('Fare Distribution by Passenger Class')\n",
    "plt.show()\n"
   ]
  },
  {
   "cell_type": "markdown",
   "id": "f0c138b9",
   "metadata": {},
   "source": [
    "# Multi-variate analysis"
   ]
  },
  {
   "cell_type": "code",
   "execution_count": 10,
   "id": "f6ff1bd0",
   "metadata": {},
   "outputs": [
    {
     "data": {
      "image/png": "[encoded data removed]",
      "text/plain": [
       "<Figure size 640x480 with 1 Axes>"
      ]
     },
     "metadata": {},
     "output_type": "display_data"
    },
    {
     "data": {
      "image/png": "[encoded data removed]",
      "text/plain": [
       "<Figure size 640x480 with 2 Axes>"
      ]
     },
     "metadata": {},
     "output_type": "display_data"
    }
   ],
   "source": [
    "\n",
    "# Scatter Plot of Age, Fare, and Survival\n",
    "sns.scatterplot(x='age', y='fare', hue='survived', data=df)\n",
    "plt.xlabel('Age')\n",
    "plt.ylabel('Fare')\n",
    "plt.title('Scatter Plot of Age, Fare, and Survival')\n",
    "plt.show()\n",
    "\n",
    "# Heatmap of Correlation\n",
    "numeric_variables = ['age', 'fare', 'pclass']\n",
    "correlation_matrix = df[numeric_variables].corr()\n",
    "sns.heatmap(correlation_matrix, annot=True, cmap='coolwarm')\n",
    "plt.title('Correlation Matrix')\n",
    "plt.show()\n"
   ]
  },
  {
   "cell_type": "markdown",
   "id": "fad14e6a",
   "metadata": {},
   "source": [
    "#  Descriptive statistics"
   ]
  },
  {
   "cell_type": "code",
   "execution_count": 11,
   "id": "94b887f4",
   "metadata": {},
   "outputs": [
    {
     "data": {
      "text/html": [
       "<div>\n",
       "<style scoped>\n",
       "    .dataframe tbody tr th:only-of-type {\n",
       "        vertical-align: middle;\n",
       "    }\n",
       "\n",
       "    .dataframe tbody tr th {\n",
       "        vertical-align: top;\n",
       "    }\n",
       "\n",
       "    .dataframe thead th {\n",
       "        text-align: right;\n",
       "    }\n",
       "</style>\n",
       "<table border=\"1\" class=\"dataframe\">\n",
       "  <thead>\n",
       "    <tr style=\"text-align: right;\">\n",
       "      <th></th>\n",
       "      <th>survived</th>\n",
       "      <th>pclass</th>\n",
       "      <th>age</th>\n",
       "      <th>sibsp</th>\n",
       "      <th>parch</th>\n",
       "      <th>fare</th>\n",
       "    </tr>\n",
       "  </thead>\n",
       "  <tbody>\n",
       "    <tr>\n",
       "      <th>count</th>\n",
       "      <td>891.000000</td>\n",
       "      <td>891.000000</td>\n",
       "      <td>714.000000</td>\n",
       "      <td>891.000000</td>\n",
       "      <td>891.000000</td>\n",
       "      <td>891.000000</td>\n",
       "    </tr>\n",
       "    <tr>\n",
       "      <th>mean</th>\n",
       "      <td>0.383838</td>\n",
       "      <td>2.308642</td>\n",
       "      <td>29.699118</td>\n",
       "      <td>0.523008</td>\n",
       "      <td>0.381594</td>\n",
       "      <td>32.204208</td>\n",
       "    </tr>\n",
       "    <tr>\n",
       "      <th>std</th>\n",
       "      <td>0.486592</td>\n",
       "      <td>0.836071</td>\n",
       "      <td>14.526497</td>\n",
       "      <td>1.102743</td>\n",
       "      <td>0.806057</td>\n",
       "      <td>49.693429</td>\n",
       "    </tr>\n",
       "    <tr>\n",
       "      <th>min</th>\n",
       "      <td>0.000000</td>\n",
       "      <td>1.000000</td>\n",
       "      <td>0.420000</td>\n",
       "      <td>0.000000</td>\n",
       "      <td>0.000000</td>\n",
       "      <td>0.000000</td>\n",
       "    </tr>\n",
       "    <tr>\n",
       "      <th>25%</th>\n",
       "      <td>0.000000</td>\n",
       "      <td>2.000000</td>\n",
       "      <td>20.125000</td>\n",
       "      <td>0.000000</td>\n",
       "      <td>0.000000</td>\n",
       "      <td>7.910400</td>\n",
       "    </tr>\n",
       "    <tr>\n",
       "      <th>50%</th>\n",
       "      <td>0.000000</td>\n",
       "      <td>3.000000</td>\n",
       "      <td>28.000000</td>\n",
       "      <td>0.000000</td>\n",
       "      <td>0.000000</td>\n",
       "      <td>14.454200</td>\n",
       "    </tr>\n",
       "    <tr>\n",
       "      <th>75%</th>\n",
       "      <td>1.000000</td>\n",
       "      <td>3.000000</td>\n",
       "      <td>38.000000</td>\n",
       "      <td>1.000000</td>\n",
       "      <td>0.000000</td>\n",
       "      <td>31.000000</td>\n",
       "    </tr>\n",
       "    <tr>\n",
       "      <th>max</th>\n",
       "      <td>1.000000</td>\n",
       "      <td>3.000000</td>\n",
       "      <td>80.000000</td>\n",
       "      <td>8.000000</td>\n",
       "      <td>6.000000</td>\n",
       "      <td>512.329200</td>\n",
       "    </tr>\n",
       "  </tbody>\n",
       "</table>\n",
       "</div>"
      ],
      "text/plain": [
       "         survived      pclass         age       sibsp       parch        fare\n",
       "count  891.000000  891.000000  714.000000  891.000000  891.000000  891.000000\n",
       "mean     0.383838    2.308642   29.699118    0.523008    0.381594   32.204208\n",
       "std      0.486592    0.836071   14.526497    1.102743    0.806057   49.693429\n",
       "min      0.000000    1.000000    0.420000    0.000000    0.000000    0.000000\n",
       "25%      0.000000    2.000000   20.125000    0.000000    0.000000    7.910400\n",
       "50%      0.000000    3.000000   28.000000    0.000000    0.000000   14.454200\n",
       "75%      1.000000    3.000000   38.000000    1.000000    0.000000   31.000000\n",
       "max      1.000000    3.000000   80.000000    8.000000    6.000000  512.329200"
      ]
     },
     "execution_count": 11,
     "metadata": {},
     "output_type": "execute_result"
    }
   ],
   "source": [
    "df.describe()"
   ]
  },
  {
   "cell_type": "code",
   "execution_count": 12,
   "id": "1e9efd01",
   "metadata": {},
   "outputs": [
    {
     "data": {
      "text/html": [
       "<div>\n",
       "<style scoped>\n",
       "    .dataframe tbody tr th:only-of-type {\n",
       "        vertical-align: middle;\n",
       "    }\n",
       "\n",
       "    .dataframe tbody tr th {\n",
       "        vertical-align: top;\n",
       "    }\n",
       "\n",
       "    .dataframe thead th {\n",
       "        text-align: right;\n",
       "    }\n",
       "</style>\n",
       "<table border=\"1\" class=\"dataframe\">\n",
       "  <thead>\n",
       "    <tr style=\"text-align: right;\">\n",
       "      <th></th>\n",
       "      <th>survived</th>\n",
       "      <th>pclass</th>\n",
       "      <th>age</th>\n",
       "      <th>sibsp</th>\n",
       "      <th>parch</th>\n",
       "      <th>fare</th>\n",
       "      <th>deck</th>\n",
       "    </tr>\n",
       "  </thead>\n",
       "  <tbody>\n",
       "    <tr>\n",
       "      <th>0</th>\n",
       "      <td>0</td>\n",
       "      <td>3</td>\n",
       "      <td>22.0</td>\n",
       "      <td>1</td>\n",
       "      <td>0</td>\n",
       "      <td>7.2500</td>\n",
       "      <td>NaN</td>\n",
       "    </tr>\n",
       "    <tr>\n",
       "      <th>1</th>\n",
       "      <td>1</td>\n",
       "      <td>1</td>\n",
       "      <td>38.0</td>\n",
       "      <td>1</td>\n",
       "      <td>0</td>\n",
       "      <td>71.2833</td>\n",
       "      <td>C</td>\n",
       "    </tr>\n",
       "    <tr>\n",
       "      <th>2</th>\n",
       "      <td>1</td>\n",
       "      <td>3</td>\n",
       "      <td>26.0</td>\n",
       "      <td>0</td>\n",
       "      <td>0</td>\n",
       "      <td>7.9250</td>\n",
       "      <td>NaN</td>\n",
       "    </tr>\n",
       "    <tr>\n",
       "      <th>3</th>\n",
       "      <td>1</td>\n",
       "      <td>1</td>\n",
       "      <td>35.0</td>\n",
       "      <td>1</td>\n",
       "      <td>0</td>\n",
       "      <td>53.1000</td>\n",
       "      <td>C</td>\n",
       "    </tr>\n",
       "    <tr>\n",
       "      <th>4</th>\n",
       "      <td>0</td>\n",
       "      <td>3</td>\n",
       "      <td>35.0</td>\n",
       "      <td>0</td>\n",
       "      <td>0</td>\n",
       "      <td>8.0500</td>\n",
       "      <td>NaN</td>\n",
       "    </tr>\n",
       "  </tbody>\n",
       "</table>\n",
       "</div>"
      ],
      "text/plain": [
       "   survived  pclass   age  sibsp  parch     fare deck\n",
       "0         0       3  22.0      1      0   7.2500  NaN\n",
       "1         1       1  38.0      1      0  71.2833    C\n",
       "2         1       3  26.0      0      0   7.9250  NaN\n",
       "3         1       1  35.0      1      0  53.1000    C\n",
       "4         0       3  35.0      0      0   8.0500  NaN"
      ]
     },
     "execution_count": 12,
     "metadata": {},
     "output_type": "execute_result"
    }
   ],
   "source": [
    "df1 = df.drop(columns=['sex','class','embarked','embark_town','who','adult_male','alive','alone'])\n",
    "df1.head()"
   ]
  },
  {
   "cell_type": "code",
   "execution_count": 13,
   "id": "94b683b3",
   "metadata": {},
   "outputs": [
    {
     "data": {
      "text/plain": [
       "survived     0.383838\n",
       "pclass       2.308642\n",
       "age         29.699118\n",
       "sibsp        0.523008\n",
       "parch        0.381594\n",
       "fare        32.204208\n",
       "dtype: float64"
      ]
     },
     "execution_count": 13,
     "metadata": {},
     "output_type": "execute_result"
    }
   ],
   "source": [
    "df1.mean()"
   ]
  },
  {
   "cell_type": "code",
   "execution_count": 14,
   "id": "9c03b427",
   "metadata": {},
   "outputs": [
    {
     "data": {
      "text/plain": [
       "survived     0.0000\n",
       "pclass       3.0000\n",
       "age         28.0000\n",
       "sibsp        0.0000\n",
       "parch        0.0000\n",
       "fare        14.4542\n",
       "dtype: float64"
      ]
     },
     "execution_count": 14,
     "metadata": {},
     "output_type": "execute_result"
    }
   ],
   "source": [
    "df1.median()"
   ]
  },
  {
   "cell_type": "code",
   "execution_count": 15,
   "id": "b01b897d",
   "metadata": {},
   "outputs": [
    {
     "data": {
      "text/html": [
       "<div>\n",
       "<style scoped>\n",
       "    .dataframe tbody tr th:only-of-type {\n",
       "        vertical-align: middle;\n",
       "    }\n",
       "\n",
       "    .dataframe tbody tr th {\n",
       "        vertical-align: top;\n",
       "    }\n",
       "\n",
       "    .dataframe thead th {\n",
       "        text-align: right;\n",
       "    }\n",
       "</style>\n",
       "<table border=\"1\" class=\"dataframe\">\n",
       "  <thead>\n",
       "    <tr style=\"text-align: right;\">\n",
       "      <th></th>\n",
       "      <th>survived</th>\n",
       "      <th>pclass</th>\n",
       "      <th>sex</th>\n",
       "      <th>age</th>\n",
       "      <th>sibsp</th>\n",
       "      <th>parch</th>\n",
       "      <th>fare</th>\n",
       "      <th>embarked</th>\n",
       "      <th>class</th>\n",
       "      <th>who</th>\n",
       "      <th>adult_male</th>\n",
       "      <th>deck</th>\n",
       "      <th>embark_town</th>\n",
       "      <th>alive</th>\n",
       "      <th>alone</th>\n",
       "    </tr>\n",
       "  </thead>\n",
       "  <tbody>\n",
       "    <tr>\n",
       "      <th>0</th>\n",
       "      <td>0</td>\n",
       "      <td>3</td>\n",
       "      <td>male</td>\n",
       "      <td>24.0</td>\n",
       "      <td>0</td>\n",
       "      <td>0</td>\n",
       "      <td>8.05</td>\n",
       "      <td>S</td>\n",
       "      <td>Third</td>\n",
       "      <td>man</td>\n",
       "      <td>True</td>\n",
       "      <td>C</td>\n",
       "      <td>Southampton</td>\n",
       "      <td>no</td>\n",
       "      <td>True</td>\n",
       "    </tr>\n",
       "  </tbody>\n",
       "</table>\n",
       "</div>"
      ],
      "text/plain": [
       "   survived  pclass   sex   age  sibsp  parch  fare embarked  class  who  \\\n",
       "0         0       3  male  24.0      0      0  8.05        S  Third  man   \n",
       "\n",
       "   adult_male deck  embark_town alive  alone  \n",
       "0        True    C  Southampton    no   True  "
      ]
     },
     "execution_count": 15,
     "metadata": {},
     "output_type": "execute_result"
    }
   ],
   "source": [
    "df.mode()"
   ]
  },
  {
   "cell_type": "code",
   "execution_count": 16,
   "id": "66bad6eb",
   "metadata": {},
   "outputs": [
    {
     "data": {
      "text/plain": [
       "survived             1\n",
       "pclass               3\n",
       "sex               male\n",
       "age               80.0\n",
       "sibsp                8\n",
       "parch                6\n",
       "fare          512.3292\n",
       "class            Third\n",
       "who              woman\n",
       "adult_male        True\n",
       "alive              yes\n",
       "alone             True\n",
       "dtype: object"
      ]
     },
     "execution_count": 16,
     "metadata": {},
     "output_type": "execute_result"
    }
   ],
   "source": [
    "df.max()"
   ]
  },
  {
   "cell_type": "code",
   "execution_count": 17,
   "id": "77cd9fb5",
   "metadata": {},
   "outputs": [
    {
     "data": {
      "text/plain": [
       "survived           0\n",
       "pclass             1\n",
       "sex           female\n",
       "age             0.42\n",
       "sibsp              0\n",
       "parch              0\n",
       "fare             0.0\n",
       "class          First\n",
       "who            child\n",
       "adult_male     False\n",
       "alive             no\n",
       "alone          False\n",
       "dtype: object"
      ]
     },
     "execution_count": 17,
     "metadata": {},
     "output_type": "execute_result"
    }
   ],
   "source": [
    "df.min()"
   ]
  },
  {
   "cell_type": "code",
   "execution_count": 18,
   "id": "c0f10d6d",
   "metadata": {},
   "outputs": [
    {
     "data": {
      "text/plain": [
       "survived         0.236772\n",
       "pclass           0.699015\n",
       "age            211.019125\n",
       "sibsp            1.216043\n",
       "parch            0.649728\n",
       "fare          2469.436846\n",
       "adult_male       0.239723\n",
       "alone            0.239723\n",
       "dtype: float64"
      ]
     },
     "execution_count": 18,
     "metadata": {},
     "output_type": "execute_result"
    }
   ],
   "source": [
    "df.var()"
   ]
  },
  {
   "cell_type": "code",
   "execution_count": 19,
   "id": "971004c2",
   "metadata": {},
   "outputs": [
    {
     "data": {
      "text/plain": [
       "survived       0.486592\n",
       "pclass         0.836071\n",
       "age           14.526497\n",
       "sibsp          1.102743\n",
       "parch          0.806057\n",
       "fare          49.693429\n",
       "adult_male     0.489615\n",
       "alone          0.489615\n",
       "dtype: float64"
      ]
     },
     "execution_count": 19,
     "metadata": {},
     "output_type": "execute_result"
    }
   ],
   "source": [
    "df.std()"
   ]
  },
  {
   "cell_type": "code",
   "execution_count": 20,
   "id": "11a46dee",
   "metadata": {},
   "outputs": [
    {
     "data": {
      "text/html": [
       "<div>\n",
       "<style scoped>\n",
       "    .dataframe tbody tr th:only-of-type {\n",
       "        vertical-align: middle;\n",
       "    }\n",
       "\n",
       "    .dataframe tbody tr th {\n",
       "        vertical-align: top;\n",
       "    }\n",
       "\n",
       "    .dataframe thead th {\n",
       "        text-align: right;\n",
       "    }\n",
       "</style>\n",
       "<table border=\"1\" class=\"dataframe\">\n",
       "  <thead>\n",
       "    <tr style=\"text-align: right;\">\n",
       "      <th></th>\n",
       "      <th>survived</th>\n",
       "      <th>pclass</th>\n",
       "      <th>age</th>\n",
       "      <th>sibsp</th>\n",
       "      <th>parch</th>\n",
       "      <th>fare</th>\n",
       "    </tr>\n",
       "  </thead>\n",
       "  <tbody>\n",
       "    <tr>\n",
       "      <th>0.25</th>\n",
       "      <td>0.0</td>\n",
       "      <td>2.0</td>\n",
       "      <td>20.125</td>\n",
       "      <td>0.0</td>\n",
       "      <td>0.0</td>\n",
       "      <td>7.9104</td>\n",
       "    </tr>\n",
       "    <tr>\n",
       "      <th>0.75</th>\n",
       "      <td>1.0</td>\n",
       "      <td>3.0</td>\n",
       "      <td>38.000</td>\n",
       "      <td>1.0</td>\n",
       "      <td>0.0</td>\n",
       "      <td>31.0000</td>\n",
       "    </tr>\n",
       "  </tbody>\n",
       "</table>\n",
       "</div>"
      ],
      "text/plain": [
       "      survived  pclass     age  sibsp  parch     fare\n",
       "0.25       0.0     2.0  20.125    0.0    0.0   7.9104\n",
       "0.75       1.0     3.0  38.000    1.0    0.0  31.0000"
      ]
     },
     "execution_count": 20,
     "metadata": {},
     "output_type": "execute_result"
    }
   ],
   "source": [
    "quantile = df1.quantile(q=[0.25,0.75])\n",
    "quantile"
   ]
  },
  {
   "cell_type": "code",
   "execution_count": 21,
   "id": "59062200",
   "metadata": {},
   "outputs": [],
   "source": [
    "IQR = quantile.iloc[1]-quantile.iloc[0]"
   ]
  },
  {
   "cell_type": "code",
   "execution_count": 22,
   "id": "a609cf69",
   "metadata": {},
   "outputs": [
    {
     "data": {
      "text/plain": [
       "survived     2.5000\n",
       "pclass       4.5000\n",
       "age         64.8125\n",
       "sibsp        2.5000\n",
       "parch        0.0000\n",
       "fare        65.6344\n",
       "dtype: float64"
      ]
     },
     "execution_count": 22,
     "metadata": {},
     "output_type": "execute_result"
    }
   ],
   "source": [
    "upper_extreme = quantile.iloc[1]+(1.5*IQR)\n",
    "upper_extreme"
   ]
  },
  {
   "cell_type": "code",
   "execution_count": 23,
   "id": "d10b505e",
   "metadata": {},
   "outputs": [
    {
     "data": {
      "text/plain": [
       "survived    -1.5000\n",
       "pclass       0.5000\n",
       "age         -6.6875\n",
       "sibsp       -1.5000\n",
       "parch        0.0000\n",
       "fare       -26.7240\n",
       "dtype: float64"
      ]
     },
     "execution_count": 23,
     "metadata": {},
     "output_type": "execute_result"
    }
   ],
   "source": [
    "lower_extreme = quantile.iloc[0]-(1.5*IQR)\n",
    "lower_extreme"
   ]
  },
  {
   "cell_type": "code",
   "execution_count": 24,
   "id": "580c26db",
   "metadata": {},
   "outputs": [
    {
     "data": {
      "text/plain": [
       "survived      0.478523\n",
       "pclass       -0.630548\n",
       "age           0.389108\n",
       "sibsp         3.695352\n",
       "parch         2.749117\n",
       "fare          4.787317\n",
       "adult_male   -0.420431\n",
       "alone        -0.420431\n",
       "dtype: float64"
      ]
     },
     "execution_count": 24,
     "metadata": {},
     "output_type": "execute_result"
    }
   ],
   "source": [
    "df.skew()"
   ]
  },
  {
   "cell_type": "code",
   "execution_count": 25,
   "id": "b7a05668",
   "metadata": {},
   "outputs": [
    {
     "data": {
      "text/plain": [
       "survived      -1.775005\n",
       "pclass        -1.280015\n",
       "age            0.178274\n",
       "sibsp         17.880420\n",
       "parch          9.778125\n",
       "fare          33.398141\n",
       "adult_male    -1.827345\n",
       "alone         -1.827345\n",
       "dtype: float64"
      ]
     },
     "execution_count": 25,
     "metadata": {},
     "output_type": "execute_result"
    }
   ],
   "source": [
    "df.kurt()"
   ]
  },
  {
   "cell_type": "code",
   "execution_count": 26,
   "id": "2a0e8b42",
   "metadata": {},
   "outputs": [
    {
     "data": {
      "text/html": [
       "<div>\n",
       "<style scoped>\n",
       "    .dataframe tbody tr th:only-of-type {\n",
       "        vertical-align: middle;\n",
       "    }\n",
       "\n",
       "    .dataframe tbody tr th {\n",
       "        vertical-align: top;\n",
       "    }\n",
       "\n",
       "    .dataframe thead th {\n",
       "        text-align: right;\n",
       "    }\n",
       "</style>\n",
       "<table border=\"1\" class=\"dataframe\">\n",
       "  <thead>\n",
       "    <tr style=\"text-align: right;\">\n",
       "      <th></th>\n",
       "      <th>survived</th>\n",
       "      <th>pclass</th>\n",
       "      <th>age</th>\n",
       "      <th>sibsp</th>\n",
       "      <th>parch</th>\n",
       "      <th>fare</th>\n",
       "      <th>adult_male</th>\n",
       "      <th>alone</th>\n",
       "    </tr>\n",
       "  </thead>\n",
       "  <tbody>\n",
       "    <tr>\n",
       "      <th>survived</th>\n",
       "      <td>1.000000</td>\n",
       "      <td>-0.338481</td>\n",
       "      <td>-0.077221</td>\n",
       "      <td>-0.035322</td>\n",
       "      <td>0.081629</td>\n",
       "      <td>0.257307</td>\n",
       "      <td>-0.557080</td>\n",
       "      <td>-0.203367</td>\n",
       "    </tr>\n",
       "    <tr>\n",
       "      <th>pclass</th>\n",
       "      <td>-0.338481</td>\n",
       "      <td>1.000000</td>\n",
       "      <td>-0.369226</td>\n",
       "      <td>0.083081</td>\n",
       "      <td>0.018443</td>\n",
       "      <td>-0.549500</td>\n",
       "      <td>0.094035</td>\n",
       "      <td>0.135207</td>\n",
       "    </tr>\n",
       "    <tr>\n",
       "      <th>age</th>\n",
       "      <td>-0.077221</td>\n",
       "      <td>-0.369226</td>\n",
       "      <td>1.000000</td>\n",
       "      <td>-0.308247</td>\n",
       "      <td>-0.189119</td>\n",
       "      <td>0.096067</td>\n",
       "      <td>0.280328</td>\n",
       "      <td>0.198270</td>\n",
       "    </tr>\n",
       "    <tr>\n",
       "      <th>sibsp</th>\n",
       "      <td>-0.035322</td>\n",
       "      <td>0.083081</td>\n",
       "      <td>-0.308247</td>\n",
       "      <td>1.000000</td>\n",
       "      <td>0.414838</td>\n",
       "      <td>0.159651</td>\n",
       "      <td>-0.253586</td>\n",
       "      <td>-0.584471</td>\n",
       "    </tr>\n",
       "    <tr>\n",
       "      <th>parch</th>\n",
       "      <td>0.081629</td>\n",
       "      <td>0.018443</td>\n",
       "      <td>-0.189119</td>\n",
       "      <td>0.414838</td>\n",
       "      <td>1.000000</td>\n",
       "      <td>0.216225</td>\n",
       "      <td>-0.349943</td>\n",
       "      <td>-0.583398</td>\n",
       "    </tr>\n",
       "    <tr>\n",
       "      <th>fare</th>\n",
       "      <td>0.257307</td>\n",
       "      <td>-0.549500</td>\n",
       "      <td>0.096067</td>\n",
       "      <td>0.159651</td>\n",
       "      <td>0.216225</td>\n",
       "      <td>1.000000</td>\n",
       "      <td>-0.182024</td>\n",
       "      <td>-0.271832</td>\n",
       "    </tr>\n",
       "    <tr>\n",
       "      <th>adult_male</th>\n",
       "      <td>-0.557080</td>\n",
       "      <td>0.094035</td>\n",
       "      <td>0.280328</td>\n",
       "      <td>-0.253586</td>\n",
       "      <td>-0.349943</td>\n",
       "      <td>-0.182024</td>\n",
       "      <td>1.000000</td>\n",
       "      <td>0.404744</td>\n",
       "    </tr>\n",
       "    <tr>\n",
       "      <th>alone</th>\n",
       "      <td>-0.203367</td>\n",
       "      <td>0.135207</td>\n",
       "      <td>0.198270</td>\n",
       "      <td>-0.584471</td>\n",
       "      <td>-0.583398</td>\n",
       "      <td>-0.271832</td>\n",
       "      <td>0.404744</td>\n",
       "      <td>1.000000</td>\n",
       "    </tr>\n",
       "  </tbody>\n",
       "</table>\n",
       "</div>"
      ],
      "text/plain": [
       "            survived    pclass       age     sibsp     parch      fare  \\\n",
       "survived    1.000000 -0.338481 -0.077221 -0.035322  0.081629  0.257307   \n",
       "pclass     -0.338481  1.000000 -0.369226  0.083081  0.018443 -0.549500   \n",
       "age        -0.077221 -0.369226  1.000000 -0.308247 -0.189119  0.096067   \n",
       "sibsp      -0.035322  0.083081 -0.308247  1.000000  0.414838  0.159651   \n",
       "parch       0.081629  0.018443 -0.189119  0.414838  1.000000  0.216225   \n",
       "fare        0.257307 -0.549500  0.096067  0.159651  0.216225  1.000000   \n",
       "adult_male -0.557080  0.094035  0.280328 -0.253586 -0.349943 -0.182024   \n",
       "alone      -0.203367  0.135207  0.198270 -0.584471 -0.583398 -0.271832   \n",
       "\n",
       "            adult_male     alone  \n",
       "survived     -0.557080 -0.203367  \n",
       "pclass        0.094035  0.135207  \n",
       "age           0.280328  0.198270  \n",
       "sibsp        -0.253586 -0.584471  \n",
       "parch        -0.349943 -0.583398  \n",
       "fare         -0.182024 -0.271832  \n",
       "adult_male    1.000000  0.404744  \n",
       "alone         0.404744  1.000000  "
      ]
     },
     "execution_count": 26,
     "metadata": {},
     "output_type": "execute_result"
    }
   ],
   "source": [
    "df.corr()"
   ]
  },
  {
   "cell_type": "code",
   "execution_count": 27,
   "id": "a29c9c25",
   "metadata": {},
   "outputs": [
    {
     "data": {
      "text/plain": [
       "Third     491\n",
       "First     216\n",
       "Second    184\n",
       "Name: class, dtype: int64"
      ]
     },
     "execution_count": 27,
     "metadata": {},
     "output_type": "execute_result"
    }
   ],
   "source": [
    "df['class'].value_counts()"
   ]
  },
  {
   "cell_type": "code",
   "execution_count": 28,
   "id": "4166a41d",
   "metadata": {},
   "outputs": [
    {
     "data": {
      "text/plain": [
       "no     549\n",
       "yes    342\n",
       "Name: alive, dtype: int64"
      ]
     },
     "execution_count": 28,
     "metadata": {},
     "output_type": "execute_result"
    }
   ],
   "source": [
    "df['alive'].value_counts()"
   ]
  },
  {
   "cell_type": "markdown",
   "id": "eab9a9da",
   "metadata": {},
   "source": [
    "# Handle the Missing values"
   ]
  },
  {
   "cell_type": "code",
   "execution_count": 29,
   "id": "77d845ba",
   "metadata": {},
   "outputs": [
    {
     "data": {
      "text/plain": [
       "survived       False\n",
       "pclass         False\n",
       "sex            False\n",
       "age             True\n",
       "sibsp          False\n",
       "parch          False\n",
       "fare           False\n",
       "embarked        True\n",
       "class          False\n",
       "who            False\n",
       "adult_male     False\n",
       "deck            True\n",
       "embark_town     True\n",
       "alive          False\n",
       "alone          False\n",
       "dtype: bool"
      ]
     },
     "execution_count": 29,
     "metadata": {},
     "output_type": "execute_result"
    }
   ],
   "source": [
    "df.isnull().any()"
   ]
  },
  {
   "cell_type": "code",
   "execution_count": 30,
   "id": "d532fd88",
   "metadata": {},
   "outputs": [
    {
     "data": {
      "text/plain": [
       "survived         0\n",
       "pclass           0\n",
       "sex              0\n",
       "age            177\n",
       "sibsp            0\n",
       "parch            0\n",
       "fare             0\n",
       "embarked         2\n",
       "class            0\n",
       "who              0\n",
       "adult_male       0\n",
       "deck           688\n",
       "embark_town      2\n",
       "alive            0\n",
       "alone            0\n",
       "dtype: int64"
      ]
     },
     "execution_count": 30,
     "metadata": {},
     "output_type": "execute_result"
    }
   ],
   "source": [
    "df.isnull().sum()"
   ]
  },
  {
   "cell_type": "code",
   "execution_count": 31,
   "id": "5323d2f3",
   "metadata": {},
   "outputs": [],
   "source": [
    "#For numeric data replacing with mean\n",
    "df['age'].fillna(df['age'].mean(),inplace=True)"
   ]
  },
  {
   "cell_type": "code",
   "execution_count": 32,
   "id": "c9c4a665",
   "metadata": {},
   "outputs": [
    {
     "data": {
      "text/html": [
       "<div>\n",
       "<style scoped>\n",
       "    .dataframe tbody tr th:only-of-type {\n",
       "        vertical-align: middle;\n",
       "    }\n",
       "\n",
       "    .dataframe tbody tr th {\n",
       "        vertical-align: top;\n",
       "    }\n",
       "\n",
       "    .dataframe thead th {\n",
       "        text-align: right;\n",
       "    }\n",
       "</style>\n",
       "<table border=\"1\" class=\"dataframe\">\n",
       "  <thead>\n",
       "    <tr style=\"text-align: right;\">\n",
       "      <th></th>\n",
       "      <th>survived</th>\n",
       "      <th>pclass</th>\n",
       "      <th>sex</th>\n",
       "      <th>age</th>\n",
       "      <th>sibsp</th>\n",
       "      <th>parch</th>\n",
       "      <th>fare</th>\n",
       "      <th>embarked</th>\n",
       "      <th>class</th>\n",
       "      <th>who</th>\n",
       "      <th>adult_male</th>\n",
       "      <th>embark_town</th>\n",
       "      <th>alive</th>\n",
       "      <th>alone</th>\n",
       "    </tr>\n",
       "  </thead>\n",
       "  <tbody>\n",
       "    <tr>\n",
       "      <th>0</th>\n",
       "      <td>0</td>\n",
       "      <td>3</td>\n",
       "      <td>male</td>\n",
       "      <td>22.0</td>\n",
       "      <td>1</td>\n",
       "      <td>0</td>\n",
       "      <td>7.2500</td>\n",
       "      <td>S</td>\n",
       "      <td>Third</td>\n",
       "      <td>man</td>\n",
       "      <td>True</td>\n",
       "      <td>Southampton</td>\n",
       "      <td>no</td>\n",
       "      <td>False</td>\n",
       "    </tr>\n",
       "    <tr>\n",
       "      <th>1</th>\n",
       "      <td>1</td>\n",
       "      <td>1</td>\n",
       "      <td>female</td>\n",
       "      <td>38.0</td>\n",
       "      <td>1</td>\n",
       "      <td>0</td>\n",
       "      <td>71.2833</td>\n",
       "      <td>C</td>\n",
       "      <td>First</td>\n",
       "      <td>woman</td>\n",
       "      <td>False</td>\n",
       "      <td>Cherbourg</td>\n",
       "      <td>yes</td>\n",
       "      <td>False</td>\n",
       "    </tr>\n",
       "    <tr>\n",
       "      <th>2</th>\n",
       "      <td>1</td>\n",
       "      <td>3</td>\n",
       "      <td>female</td>\n",
       "      <td>26.0</td>\n",
       "      <td>0</td>\n",
       "      <td>0</td>\n",
       "      <td>7.9250</td>\n",
       "      <td>S</td>\n",
       "      <td>Third</td>\n",
       "      <td>woman</td>\n",
       "      <td>False</td>\n",
       "      <td>Southampton</td>\n",
       "      <td>yes</td>\n",
       "      <td>True</td>\n",
       "    </tr>\n",
       "    <tr>\n",
       "      <th>3</th>\n",
       "      <td>1</td>\n",
       "      <td>1</td>\n",
       "      <td>female</td>\n",
       "      <td>35.0</td>\n",
       "      <td>1</td>\n",
       "      <td>0</td>\n",
       "      <td>53.1000</td>\n",
       "      <td>S</td>\n",
       "      <td>First</td>\n",
       "      <td>woman</td>\n",
       "      <td>False</td>\n",
       "      <td>Southampton</td>\n",
       "      <td>yes</td>\n",
       "      <td>False</td>\n",
       "    </tr>\n",
       "    <tr>\n",
       "      <th>4</th>\n",
       "      <td>0</td>\n",
       "      <td>3</td>\n",
       "      <td>male</td>\n",
       "      <td>35.0</td>\n",
       "      <td>0</td>\n",
       "      <td>0</td>\n",
       "      <td>8.0500</td>\n",
       "      <td>S</td>\n",
       "      <td>Third</td>\n",
       "      <td>man</td>\n",
       "      <td>True</td>\n",
       "      <td>Southampton</td>\n",
       "      <td>no</td>\n",
       "      <td>True</td>\n",
       "    </tr>\n",
       "  </tbody>\n",
       "</table>\n",
       "</div>"
      ],
      "text/plain": [
       "   survived  pclass     sex   age  sibsp  parch     fare embarked  class  \\\n",
       "0         0       3    male  22.0      1      0   7.2500        S  Third   \n",
       "1         1       1  female  38.0      1      0  71.2833        C  First   \n",
       "2         1       3  female  26.0      0      0   7.9250        S  Third   \n",
       "3         1       1  female  35.0      1      0  53.1000        S  First   \n",
       "4         0       3    male  35.0      0      0   8.0500        S  Third   \n",
       "\n",
       "     who  adult_male  embark_town alive  alone  \n",
       "0    man        True  Southampton    no  False  \n",
       "1  woman       False    Cherbourg   yes  False  \n",
       "2  woman       False  Southampton   yes   True  \n",
       "3  woman       False  Southampton   yes  False  \n",
       "4    man        True  Southampton    no   True  "
      ]
     },
     "execution_count": 32,
     "metadata": {},
     "output_type": "execute_result"
    }
   ],
   "source": [
    "# Here we have 688 null values for deck column out of 891 records having this much NA values and using the column is useless so we'll drop the deck column\n",
    "\n",
    "df = df.drop(columns=['deck'])\n",
    "df.head()"
   ]
  },
  {
   "cell_type": "code",
   "execution_count": 33,
   "id": "8fe9d846",
   "metadata": {},
   "outputs": [],
   "source": [
    "#For categorical values replacing with mode\n",
    "df['embark_town'].fillna(df['embark_town'].mode()[0],inplace=True)\n",
    "df['embarked'].fillna(df['embarked'].mode()[0],inplace=True)"
   ]
  },
  {
   "cell_type": "code",
   "execution_count": 34,
   "id": "e42e8d7f",
   "metadata": {},
   "outputs": [
    {
     "data": {
      "text/plain": [
       "0"
      ]
     },
     "execution_count": 34,
     "metadata": {},
     "output_type": "execute_result"
    }
   ],
   "source": [
    "#Verifying if null value are there are not\n",
    "df.isnull().any().sum()"
   ]
  },
  {
   "cell_type": "markdown",
   "id": "44805977",
   "metadata": {},
   "source": [
    "# Outliers"
   ]
  },
  {
   "cell_type": "code",
   "execution_count": 36,
   "id": "03259c87",
   "metadata": {},
   "outputs": [
    {
     "data": {
      "text/plain": [
       "<AxesSubplot:xlabel='age'>"
      ]
     },
     "execution_count": 36,
     "metadata": {},
     "output_type": "execute_result"
    },
    {
     "data": {
      "image/png": "[encoded data removed]",
      "text/plain": [
       "<Figure size 640x480 with 1 Axes>"
      ]
     },
     "metadata": {},
     "output_type": "display_data"
    }
   ],
   "source": [
    "sns.boxplot(df['age'])"
   ]
  },
  {
   "cell_type": "code",
   "execution_count": 37,
   "id": "9fae6e8d",
   "metadata": {},
   "outputs": [],
   "source": [
    "# We'll replce the outliers value with upper_extreme when value > upper_extreme\n",
    "# We'll replce the outliers value with lower_extreme when value < lower_extreme \n",
    "\n",
    "Q1 = df['age'].quantile(0.25)\n",
    "Q3 = df['age'].quantile(0.75)\n",
    "IQR = Q3-Q1\n",
    "l_e = Q1 - (1.5*IQR)\n",
    "u_e = Q1 + (1.5*IQR)\n",
    "df['age'] = np.where(df['age']>u_e,u_e,np.where(df['age']<l_e,l_e,df['age']))"
   ]
  },
  {
   "cell_type": "code",
   "execution_count": 38,
   "id": "daa5f825",
   "metadata": {},
   "outputs": [
    {
     "data": {
      "text/plain": [
       "<AxesSubplot:xlabel='age'>"
      ]
     },
     "execution_count": 38,
     "metadata": {},
     "output_type": "execute_result"
    },
    {
     "data": {
      "image/png": "[encoded data removed]",
      "text/plain": [
       "<Figure size 640x480 with 1 Axes>"
      ]
     },
     "metadata": {},
     "output_type": "display_data"
    }
   ],
   "source": [
    "sns.boxplot(df['age'])"
   ]
  },
  {
   "cell_type": "code",
   "execution_count": 39,
   "id": "9ed74d5b",
   "metadata": {},
   "outputs": [
    {
     "data": {
      "text/plain": [
       "<AxesSubplot:xlabel='fare'>"
      ]
     },
     "execution_count": 39,
     "metadata": {},
     "output_type": "execute_result"
    },
    {
     "data": {
      "image/png": "[encoded data removed]",
      "text/plain": [
       "<Figure size 640x480 with 1 Axes>"
      ]
     },
     "metadata": {},
     "output_type": "display_data"
    }
   ],
   "source": [
    "sns.boxplot(df['fare'])"
   ]
  },
  {
   "cell_type": "code",
   "execution_count": 40,
   "id": "c25634a5",
   "metadata": {},
   "outputs": [],
   "source": [
    "# We'll replce the outliers value with upper_extreme when value > upper_extreme\n",
    "# We'll replce the outliers value with lower_extreme when value < lower_extreme \n",
    "\n",
    "Q1 = df['fare'].quantile(0.25)\n",
    "Q3 = df['fare'].quantile(0.75)\n",
    "IQR = Q3 - Q1\n",
    "l_e = Q1 -(1.5*IQR)\n",
    "u_e = Q3 + (1.5*IQR)\n",
    "df['fare']=np.where(df['fare']>u_e,u_e,np.where(df['fare']<l_e,l_e,df['fare']))"
   ]
  },
  {
   "cell_type": "code",
   "execution_count": 41,
   "id": "bcda38df",
   "metadata": {},
   "outputs": [
    {
     "data": {
      "text/plain": [
       "<AxesSubplot:xlabel='fare'>"
      ]
     },
     "execution_count": 41,
     "metadata": {},
     "output_type": "execute_result"
    },
    {
     "data": {
      "image/png": "[encoded data removed]",
      "text/plain": [
       "<Figure size 640x480 with 1 Axes>"
      ]
     },
     "metadata": {},
     "output_type": "display_data"
    }
   ],
   "source": [
    "sns.boxplot(df['fare'])"
   ]
  },
  {
   "cell_type": "code",
   "execution_count": 42,
   "id": "96a4f03d",
   "metadata": {},
   "outputs": [
    {
     "data": {
      "text/plain": [
       "<AxesSubplot:xlabel='sibsp'>"
      ]
     },
     "execution_count": 42,
     "metadata": {},
     "output_type": "execute_result"
    },
    {
     "data": {
      "image/png": "[encoded data removed]",
      "text/plain": [
       "<Figure size 640x480 with 1 Axes>"
      ]
     },
     "metadata": {},
     "output_type": "display_data"
    }
   ],
   "source": [
    "sns.boxplot(df['sibsp'])"
   ]
  },
  {
   "cell_type": "code",
   "execution_count": 43,
   "id": "f53a3c3e",
   "metadata": {},
   "outputs": [],
   "source": [
    "Q1 = df['sibsp'].quantile(0.25)\n",
    "Q3 = df['sibsp'].quantile(0.75)\n",
    "IQR = Q3-Q1\n",
    "l_e = Q1 - (1.5*IQR)\n",
    "u_e = Q1 + (1.5*IQR)\n",
    "df['sibsp'] = np.where(df['sibsp']>u_e,u_e,np.where(df['sibsp']<l_e,l_e,df['sibsp']))"
   ]
  },
  {
   "cell_type": "code",
   "execution_count": 44,
   "id": "e141e148",
   "metadata": {},
   "outputs": [
    {
     "data": {
      "text/plain": [
       "<AxesSubplot:xlabel='sibsp'>"
      ]
     },
     "execution_count": 44,
     "metadata": {},
     "output_type": "execute_result"
    },
    {
     "data": {
      "image/png": "[encoded data removed]",
      "text/plain": [
       "<Figure size 640x480 with 1 Axes>"
      ]
     },
     "metadata": {},
     "output_type": "display_data"
    }
   ],
   "source": [
    "sns.boxplot(df['sibsp'])"
   ]
  },
  {
   "cell_type": "code",
   "execution_count": 45,
   "id": "6d1e9e59",
   "metadata": {},
   "outputs": [
    {
     "data": {
      "text/plain": [
       "<AxesSubplot:xlabel='parch'>"
      ]
     },
     "execution_count": 45,
     "metadata": {},
     "output_type": "execute_result"
    },
    {
     "data": {
      "image/png": "[encoded data removed]",
      "text/plain": [
       "<Figure size 640x480 with 1 Axes>"
      ]
     },
     "metadata": {},
     "output_type": "display_data"
    }
   ],
   "source": [
    "sns.boxplot(df['parch'])"
   ]
  },
  {
   "cell_type": "code",
   "execution_count": 46,
   "id": "0f14e962",
   "metadata": {},
   "outputs": [],
   "source": [
    "Q1 = df['parch'].quantile(0.25)\n",
    "Q3 = df['parch'].quantile(0.75)\n",
    "IQR = Q3-Q1\n",
    "l_e = Q1 - (1.5*IQR)\n",
    "u_e = Q1 + (1.5*IQR)\n",
    "df['parch'] = np.where(df['parch']>u_e,u_e,np.where(df['parch']<l_e,l_e,df['parch']))"
   ]
  },
  {
   "cell_type": "code",
   "execution_count": 47,
   "id": "0c82a085",
   "metadata": {},
   "outputs": [
    {
     "data": {
      "text/plain": [
       "<AxesSubplot:xlabel='parch'>"
      ]
     },
     "execution_count": 47,
     "metadata": {},
     "output_type": "execute_result"
    },
    {
     "data": {
      "image/png": "[encoded data removed]",
      "text/plain": [
       "<Figure size 640x480 with 1 Axes>"
      ]
     },
     "metadata": {},
     "output_type": "display_data"
    }
   ],
   "source": [
    "sns.boxplot(df['parch'])"
   ]
  },
  {
   "cell_type": "code",
   "execution_count": 48,
   "id": "f25e3648",
   "metadata": {},
   "outputs": [
    {
     "data": {
      "image/png": "[encoded data removed]",
      "text/plain": [
       "<Figure size 1000x600 with 1 Axes>"
      ]
     },
     "metadata": {},
     "output_type": "display_data"
    }
   ],
   "source": [
    "#No more outliers\n",
    "# Select the columns for box plots\n",
    "columns_to_plot = ['survived', 'pclass', 'age', 'sibsp', 'parch', 'fare', 'adult_male', 'alone']\n",
    "\n",
    "# Create a subset DataFrame with the selected columns\n",
    "subset_df = df[columns_to_plot]\n",
    "\n",
    "# Plot the box plots\n",
    "plt.figure(figsize=(10, 6))  # Optional: adjust the figure size\n",
    "sns.boxplot(data=subset_df)\n",
    "\n",
    "# Set the title and labels\n",
    "plt.title('Box Plots')\n",
    "plt.xlabel('Columns')\n",
    "plt.ylabel('Values')\n",
    "\n",
    "# Rotate x-axis labels if needed\n",
    "plt.xticks(rotation=45)\n",
    "\n",
    "# Show the plot\n",
    "plt.show()\n"
   ]
  },
  {
   "cell_type": "markdown",
   "id": "0b767d8f",
   "metadata": {},
   "source": [
    "# Encoding"
   ]
  },
  {
   "cell_type": "code",
   "execution_count": 49,
   "id": "39362b05",
   "metadata": {},
   "outputs": [],
   "source": [
    "from sklearn.preprocessing import LabelEncoder\n",
    "LE = LabelEncoder()"
   ]
  },
  {
   "cell_type": "code",
   "execution_count": 50,
   "id": "d5fa81fe",
   "metadata": {},
   "outputs": [
    {
     "name": "stdout",
     "output_type": "stream",
     "text": [
      "<class 'pandas.core.frame.DataFrame'>\n",
      "RangeIndex: 891 entries, 0 to 890\n",
      "Data columns (total 14 columns):\n",
      " #   Column       Non-Null Count  Dtype  \n",
      "---  ------       --------------  -----  \n",
      " 0   survived     891 non-null    int64  \n",
      " 1   pclass       891 non-null    int64  \n",
      " 2   sex          891 non-null    object \n",
      " 3   age          891 non-null    float64\n",
      " 4   sibsp        891 non-null    float64\n",
      " 5   parch        891 non-null    float64\n",
      " 6   fare         891 non-null    float64\n",
      " 7   embarked     891 non-null    object \n",
      " 8   class        891 non-null    object \n",
      " 9   who          891 non-null    object \n",
      " 10  adult_male   891 non-null    bool   \n",
      " 11  embark_town  891 non-null    object \n",
      " 12  alive        891 non-null    object \n",
      " 13  alone        891 non-null    bool   \n",
      "dtypes: bool(2), float64(4), int64(2), object(6)\n",
      "memory usage: 85.4+ KB\n"
     ]
    }
   ],
   "source": [
    "df.info() #object dtype are categorical and even bool needs to be changed"
   ]
  },
  {
   "cell_type": "code",
   "execution_count": 51,
   "id": "d6bd6218",
   "metadata": {},
   "outputs": [],
   "source": [
    "df['sex'] = LE.fit_transform(df['sex'])\n",
    "df['embarked'] = LE.fit_transform(df['embarked'])\n",
    "df['class'] = LE.fit_transform(df['class'])\n",
    "df['who'] = LE.fit_transform(df['who'])\n",
    "df['embark_town'] = LE.fit_transform(df['embark_town'])\n",
    "df['alive'] = LE.fit_transform(df['alive'])\n",
    "df['adult_male'] = LE.fit_transform(df['adult_male'])\n",
    "df['alone'] = LE.fit_transform(df['alone'])"
   ]
  },
  {
   "cell_type": "code",
   "execution_count": 52,
   "id": "8839fe9e",
   "metadata": {},
   "outputs": [
    {
     "data": {
      "text/html": [
       "<div>\n",
       "<style scoped>\n",
       "    .dataframe tbody tr th:only-of-type {\n",
       "        vertical-align: middle;\n",
       "    }\n",
       "\n",
       "    .dataframe tbody tr th {\n",
       "        vertical-align: top;\n",
       "    }\n",
       "\n",
       "    .dataframe thead th {\n",
       "        text-align: right;\n",
       "    }\n",
       "</style>\n",
       "<table border=\"1\" class=\"dataframe\">\n",
       "  <thead>\n",
       "    <tr style=\"text-align: right;\">\n",
       "      <th></th>\n",
       "      <th>survived</th>\n",
       "      <th>pclass</th>\n",
       "      <th>sex</th>\n",
       "      <th>age</th>\n",
       "      <th>sibsp</th>\n",
       "      <th>parch</th>\n",
       "      <th>fare</th>\n",
       "      <th>embarked</th>\n",
       "      <th>class</th>\n",
       "      <th>who</th>\n",
       "      <th>adult_male</th>\n",
       "      <th>embark_town</th>\n",
       "      <th>alive</th>\n",
       "      <th>alone</th>\n",
       "    </tr>\n",
       "  </thead>\n",
       "  <tbody>\n",
       "    <tr>\n",
       "      <th>0</th>\n",
       "      <td>0</td>\n",
       "      <td>3</td>\n",
       "      <td>1</td>\n",
       "      <td>22.0</td>\n",
       "      <td>1.0</td>\n",
       "      <td>0.0</td>\n",
       "      <td>7.2500</td>\n",
       "      <td>2</td>\n",
       "      <td>2</td>\n",
       "      <td>1</td>\n",
       "      <td>1</td>\n",
       "      <td>2</td>\n",
       "      <td>0</td>\n",
       "      <td>0</td>\n",
       "    </tr>\n",
       "    <tr>\n",
       "      <th>1</th>\n",
       "      <td>1</td>\n",
       "      <td>1</td>\n",
       "      <td>0</td>\n",
       "      <td>38.0</td>\n",
       "      <td>1.0</td>\n",
       "      <td>0.0</td>\n",
       "      <td>65.6344</td>\n",
       "      <td>0</td>\n",
       "      <td>0</td>\n",
       "      <td>2</td>\n",
       "      <td>0</td>\n",
       "      <td>0</td>\n",
       "      <td>1</td>\n",
       "      <td>0</td>\n",
       "    </tr>\n",
       "    <tr>\n",
       "      <th>2</th>\n",
       "      <td>1</td>\n",
       "      <td>3</td>\n",
       "      <td>0</td>\n",
       "      <td>26.0</td>\n",
       "      <td>0.0</td>\n",
       "      <td>0.0</td>\n",
       "      <td>7.9250</td>\n",
       "      <td>2</td>\n",
       "      <td>2</td>\n",
       "      <td>2</td>\n",
       "      <td>0</td>\n",
       "      <td>2</td>\n",
       "      <td>1</td>\n",
       "      <td>1</td>\n",
       "    </tr>\n",
       "    <tr>\n",
       "      <th>3</th>\n",
       "      <td>1</td>\n",
       "      <td>1</td>\n",
       "      <td>0</td>\n",
       "      <td>35.0</td>\n",
       "      <td>1.0</td>\n",
       "      <td>0.0</td>\n",
       "      <td>53.1000</td>\n",
       "      <td>2</td>\n",
       "      <td>0</td>\n",
       "      <td>2</td>\n",
       "      <td>0</td>\n",
       "      <td>2</td>\n",
       "      <td>1</td>\n",
       "      <td>0</td>\n",
       "    </tr>\n",
       "    <tr>\n",
       "      <th>4</th>\n",
       "      <td>0</td>\n",
       "      <td>3</td>\n",
       "      <td>1</td>\n",
       "      <td>35.0</td>\n",
       "      <td>0.0</td>\n",
       "      <td>0.0</td>\n",
       "      <td>8.0500</td>\n",
       "      <td>2</td>\n",
       "      <td>2</td>\n",
       "      <td>1</td>\n",
       "      <td>1</td>\n",
       "      <td>2</td>\n",
       "      <td>0</td>\n",
       "      <td>1</td>\n",
       "    </tr>\n",
       "  </tbody>\n",
       "</table>\n",
       "</div>"
      ],
      "text/plain": [
       "   survived  pclass  sex   age  sibsp  parch     fare  embarked  class  who  \\\n",
       "0         0       3    1  22.0    1.0    0.0   7.2500         2      2    1   \n",
       "1         1       1    0  38.0    1.0    0.0  65.6344         0      0    2   \n",
       "2         1       3    0  26.0    0.0    0.0   7.9250         2      2    2   \n",
       "3         1       1    0  35.0    1.0    0.0  53.1000         2      0    2   \n",
       "4         0       3    1  35.0    0.0    0.0   8.0500         2      2    1   \n",
       "\n",
       "   adult_male  embark_town  alive  alone  \n",
       "0           1            2      0      0  \n",
       "1           0            0      1      0  \n",
       "2           0            2      1      1  \n",
       "3           0            2      1      0  \n",
       "4           1            2      0      1  "
      ]
     },
     "execution_count": 52,
     "metadata": {},
     "output_type": "execute_result"
    }
   ],
   "source": [
    "df.head()"
   ]
  },
  {
   "cell_type": "markdown",
   "id": "bb808f9c",
   "metadata": {},
   "source": [
    "# Splitting into dependent and independent variables"
   ]
  },
  {
   "cell_type": "markdown",
   "id": "c1ae26de",
   "metadata": {},
   "source": [
    "Here our main goal is to find whether the people survived or not and that is our target variable(y) so y is survived and x is rest"
   ]
  },
  {
   "cell_type": "code",
   "execution_count": 54,
   "id": "092d26c8",
   "metadata": {},
   "outputs": [],
   "source": [
    "y = df['survived']\n",
    "x = df.drop(columns=['survived'])"
   ]
  },
  {
   "cell_type": "code",
   "execution_count": 55,
   "id": "b2c98084",
   "metadata": {},
   "outputs": [
    {
     "data": {
      "text/html": [
       "<div>\n",
       "<style scoped>\n",
       "    .dataframe tbody tr th:only-of-type {\n",
       "        vertical-align: middle;\n",
       "    }\n",
       "\n",
       "    .dataframe tbody tr th {\n",
       "        vertical-align: top;\n",
       "    }\n",
       "\n",
       "    .dataframe thead th {\n",
       "        text-align: right;\n",
       "    }\n",
       "</style>\n",
       "<table border=\"1\" class=\"dataframe\">\n",
       "  <thead>\n",
       "    <tr style=\"text-align: right;\">\n",
       "      <th></th>\n",
       "      <th>pclass</th>\n",
       "      <th>sex</th>\n",
       "      <th>age</th>\n",
       "      <th>sibsp</th>\n",
       "      <th>parch</th>\n",
       "      <th>fare</th>\n",
       "      <th>embarked</th>\n",
       "      <th>class</th>\n",
       "      <th>who</th>\n",
       "      <th>adult_male</th>\n",
       "      <th>embark_town</th>\n",
       "      <th>alive</th>\n",
       "      <th>alone</th>\n",
       "    </tr>\n",
       "  </thead>\n",
       "  <tbody>\n",
       "    <tr>\n",
       "      <th>0</th>\n",
       "      <td>3</td>\n",
       "      <td>1</td>\n",
       "      <td>22.0</td>\n",
       "      <td>1.0</td>\n",
       "      <td>0.0</td>\n",
       "      <td>7.2500</td>\n",
       "      <td>2</td>\n",
       "      <td>2</td>\n",
       "      <td>1</td>\n",
       "      <td>1</td>\n",
       "      <td>2</td>\n",
       "      <td>0</td>\n",
       "      <td>0</td>\n",
       "    </tr>\n",
       "    <tr>\n",
       "      <th>1</th>\n",
       "      <td>1</td>\n",
       "      <td>0</td>\n",
       "      <td>38.0</td>\n",
       "      <td>1.0</td>\n",
       "      <td>0.0</td>\n",
       "      <td>65.6344</td>\n",
       "      <td>0</td>\n",
       "      <td>0</td>\n",
       "      <td>2</td>\n",
       "      <td>0</td>\n",
       "      <td>0</td>\n",
       "      <td>1</td>\n",
       "      <td>0</td>\n",
       "    </tr>\n",
       "    <tr>\n",
       "      <th>2</th>\n",
       "      <td>3</td>\n",
       "      <td>0</td>\n",
       "      <td>26.0</td>\n",
       "      <td>0.0</td>\n",
       "      <td>0.0</td>\n",
       "      <td>7.9250</td>\n",
       "      <td>2</td>\n",
       "      <td>2</td>\n",
       "      <td>2</td>\n",
       "      <td>0</td>\n",
       "      <td>2</td>\n",
       "      <td>1</td>\n",
       "      <td>1</td>\n",
       "    </tr>\n",
       "    <tr>\n",
       "      <th>3</th>\n",
       "      <td>1</td>\n",
       "      <td>0</td>\n",
       "      <td>35.0</td>\n",
       "      <td>1.0</td>\n",
       "      <td>0.0</td>\n",
       "      <td>53.1000</td>\n",
       "      <td>2</td>\n",
       "      <td>0</td>\n",
       "      <td>2</td>\n",
       "      <td>0</td>\n",
       "      <td>2</td>\n",
       "      <td>1</td>\n",
       "      <td>0</td>\n",
       "    </tr>\n",
       "    <tr>\n",
       "      <th>4</th>\n",
       "      <td>3</td>\n",
       "      <td>1</td>\n",
       "      <td>35.0</td>\n",
       "      <td>0.0</td>\n",
       "      <td>0.0</td>\n",
       "      <td>8.0500</td>\n",
       "      <td>2</td>\n",
       "      <td>2</td>\n",
       "      <td>1</td>\n",
       "      <td>1</td>\n",
       "      <td>2</td>\n",
       "      <td>0</td>\n",
       "      <td>1</td>\n",
       "    </tr>\n",
       "  </tbody>\n",
       "</table>\n",
       "</div>"
      ],
      "text/plain": [
       "   pclass  sex   age  sibsp  parch     fare  embarked  class  who  adult_male  \\\n",
       "0       3    1  22.0    1.0    0.0   7.2500         2      2    1           1   \n",
       "1       1    0  38.0    1.0    0.0  65.6344         0      0    2           0   \n",
       "2       3    0  26.0    0.0    0.0   7.9250         2      2    2           0   \n",
       "3       1    0  35.0    1.0    0.0  53.1000         2      0    2           0   \n",
       "4       3    1  35.0    0.0    0.0   8.0500         2      2    1           1   \n",
       "\n",
       "   embark_town  alive  alone  \n",
       "0            2      0      0  \n",
       "1            0      1      0  \n",
       "2            2      1      1  \n",
       "3            2      1      0  \n",
       "4            2      0      1  "
      ]
     },
     "execution_count": 55,
     "metadata": {},
     "output_type": "execute_result"
    }
   ],
   "source": [
    "x.head()"
   ]
  },
  {
   "cell_type": "code",
   "execution_count": 56,
   "id": "7c0aed61",
   "metadata": {},
   "outputs": [
    {
     "data": {
      "text/plain": [
       "0    0\n",
       "1    1\n",
       "2    1\n",
       "3    1\n",
       "4    0\n",
       "Name: survived, dtype: int64"
      ]
     },
     "execution_count": 56,
     "metadata": {},
     "output_type": "execute_result"
    }
   ],
   "source": [
    "y.head()"
   ]
  },
  {
   "cell_type": "markdown",
   "id": "09002430",
   "metadata": {},
   "source": [
    "# Scaling"
   ]
  },
  {
   "cell_type": "code",
   "execution_count": 57,
   "id": "d565c427",
   "metadata": {},
   "outputs": [
    {
     "data": {
      "text/html": [
       "<div>\n",
       "<style scoped>\n",
       "    .dataframe tbody tr th:only-of-type {\n",
       "        vertical-align: middle;\n",
       "    }\n",
       "\n",
       "    .dataframe tbody tr th {\n",
       "        vertical-align: top;\n",
       "    }\n",
       "\n",
       "    .dataframe thead th {\n",
       "        text-align: right;\n",
       "    }\n",
       "</style>\n",
       "<table border=\"1\" class=\"dataframe\">\n",
       "  <thead>\n",
       "    <tr style=\"text-align: right;\">\n",
       "      <th></th>\n",
       "      <th>pclass</th>\n",
       "      <th>sex</th>\n",
       "      <th>age</th>\n",
       "      <th>sibsp</th>\n",
       "      <th>parch</th>\n",
       "      <th>fare</th>\n",
       "      <th>embarked</th>\n",
       "      <th>class</th>\n",
       "      <th>who</th>\n",
       "      <th>adult_male</th>\n",
       "      <th>embark_town</th>\n",
       "      <th>alive</th>\n",
       "      <th>alone</th>\n",
       "    </tr>\n",
       "  </thead>\n",
       "  <tbody>\n",
       "    <tr>\n",
       "      <th>0</th>\n",
       "      <td>0.827377</td>\n",
       "      <td>0.737695</td>\n",
       "      <td>-0.611782</td>\n",
       "      <td>1.185039</td>\n",
       "      <td>0.0</td>\n",
       "      <td>-0.820552</td>\n",
       "      <td>0.585954</td>\n",
       "      <td>0.827377</td>\n",
       "      <td>-0.355242</td>\n",
       "      <td>0.811922</td>\n",
       "      <td>0.585954</td>\n",
       "      <td>-0.789272</td>\n",
       "      <td>-1.231645</td>\n",
       "    </tr>\n",
       "    <tr>\n",
       "      <th>1</th>\n",
       "      <td>-1.566107</td>\n",
       "      <td>-1.355574</td>\n",
       "      <td>0.989167</td>\n",
       "      <td>1.185039</td>\n",
       "      <td>0.0</td>\n",
       "      <td>2.031623</td>\n",
       "      <td>-1.942303</td>\n",
       "      <td>-1.566107</td>\n",
       "      <td>1.328379</td>\n",
       "      <td>-1.231645</td>\n",
       "      <td>-1.942303</td>\n",
       "      <td>1.266990</td>\n",
       "      <td>-1.231645</td>\n",
       "    </tr>\n",
       "    <tr>\n",
       "      <th>2</th>\n",
       "      <td>0.827377</td>\n",
       "      <td>-1.355574</td>\n",
       "      <td>-0.211544</td>\n",
       "      <td>-0.664120</td>\n",
       "      <td>0.0</td>\n",
       "      <td>-0.787578</td>\n",
       "      <td>0.585954</td>\n",
       "      <td>0.827377</td>\n",
       "      <td>1.328379</td>\n",
       "      <td>-1.231645</td>\n",
       "      <td>0.585954</td>\n",
       "      <td>1.266990</td>\n",
       "      <td>0.811922</td>\n",
       "    </tr>\n",
       "    <tr>\n",
       "      <th>3</th>\n",
       "      <td>-1.566107</td>\n",
       "      <td>-1.355574</td>\n",
       "      <td>0.688989</td>\n",
       "      <td>1.185039</td>\n",
       "      <td>0.0</td>\n",
       "      <td>1.419297</td>\n",
       "      <td>0.585954</td>\n",
       "      <td>-1.566107</td>\n",
       "      <td>1.328379</td>\n",
       "      <td>-1.231645</td>\n",
       "      <td>0.585954</td>\n",
       "      <td>1.266990</td>\n",
       "      <td>-1.231645</td>\n",
       "    </tr>\n",
       "    <tr>\n",
       "      <th>4</th>\n",
       "      <td>0.827377</td>\n",
       "      <td>0.737695</td>\n",
       "      <td>0.688989</td>\n",
       "      <td>-0.664120</td>\n",
       "      <td>0.0</td>\n",
       "      <td>-0.781471</td>\n",
       "      <td>0.585954</td>\n",
       "      <td>0.827377</td>\n",
       "      <td>-0.355242</td>\n",
       "      <td>0.811922</td>\n",
       "      <td>0.585954</td>\n",
       "      <td>-0.789272</td>\n",
       "      <td>0.811922</td>\n",
       "    </tr>\n",
       "    <tr>\n",
       "      <th>...</th>\n",
       "      <td>...</td>\n",
       "      <td>...</td>\n",
       "      <td>...</td>\n",
       "      <td>...</td>\n",
       "      <td>...</td>\n",
       "      <td>...</td>\n",
       "      <td>...</td>\n",
       "      <td>...</td>\n",
       "      <td>...</td>\n",
       "      <td>...</td>\n",
       "      <td>...</td>\n",
       "      <td>...</td>\n",
       "      <td>...</td>\n",
       "    </tr>\n",
       "    <tr>\n",
       "      <th>886</th>\n",
       "      <td>-0.369365</td>\n",
       "      <td>0.737695</td>\n",
       "      <td>-0.111485</td>\n",
       "      <td>-0.664120</td>\n",
       "      <td>0.0</td>\n",
       "      <td>-0.539655</td>\n",
       "      <td>0.585954</td>\n",
       "      <td>-0.369365</td>\n",
       "      <td>-0.355242</td>\n",
       "      <td>0.811922</td>\n",
       "      <td>0.585954</td>\n",
       "      <td>-0.789272</td>\n",
       "      <td>0.811922</td>\n",
       "    </tr>\n",
       "    <tr>\n",
       "      <th>887</th>\n",
       "      <td>-1.566107</td>\n",
       "      <td>-1.355574</td>\n",
       "      <td>-0.911960</td>\n",
       "      <td>-0.664120</td>\n",
       "      <td>0.0</td>\n",
       "      <td>0.290823</td>\n",
       "      <td>0.585954</td>\n",
       "      <td>-1.566107</td>\n",
       "      <td>1.328379</td>\n",
       "      <td>-1.231645</td>\n",
       "      <td>0.585954</td>\n",
       "      <td>1.266990</td>\n",
       "      <td>0.811922</td>\n",
       "    </tr>\n",
       "    <tr>\n",
       "      <th>888</th>\n",
       "      <td>0.827377</td>\n",
       "      <td>-1.355574</td>\n",
       "      <td>0.158587</td>\n",
       "      <td>1.185039</td>\n",
       "      <td>0.0</td>\n",
       "      <td>-0.029155</td>\n",
       "      <td>0.585954</td>\n",
       "      <td>0.827377</td>\n",
       "      <td>1.328379</td>\n",
       "      <td>-1.231645</td>\n",
       "      <td>0.585954</td>\n",
       "      <td>-0.789272</td>\n",
       "      <td>-1.231645</td>\n",
       "    </tr>\n",
       "    <tr>\n",
       "      <th>889</th>\n",
       "      <td>-1.566107</td>\n",
       "      <td>0.737695</td>\n",
       "      <td>-0.211544</td>\n",
       "      <td>-0.664120</td>\n",
       "      <td>0.0</td>\n",
       "      <td>0.290823</td>\n",
       "      <td>-1.942303</td>\n",
       "      <td>-1.566107</td>\n",
       "      <td>-0.355242</td>\n",
       "      <td>0.811922</td>\n",
       "      <td>-1.942303</td>\n",
       "      <td>1.266990</td>\n",
       "      <td>0.811922</td>\n",
       "    </tr>\n",
       "    <tr>\n",
       "      <th>890</th>\n",
       "      <td>0.827377</td>\n",
       "      <td>0.737695</td>\n",
       "      <td>0.388811</td>\n",
       "      <td>-0.664120</td>\n",
       "      <td>0.0</td>\n",
       "      <td>-0.796127</td>\n",
       "      <td>-0.678175</td>\n",
       "      <td>0.827377</td>\n",
       "      <td>-0.355242</td>\n",
       "      <td>0.811922</td>\n",
       "      <td>-0.678175</td>\n",
       "      <td>-0.789272</td>\n",
       "      <td>0.811922</td>\n",
       "    </tr>\n",
       "  </tbody>\n",
       "</table>\n",
       "<p>891 rows × 13 columns</p>\n",
       "</div>"
      ],
      "text/plain": [
       "       pclass       sex       age     sibsp  parch      fare  embarked  \\\n",
       "0    0.827377  0.737695 -0.611782  1.185039    0.0 -0.820552  0.585954   \n",
       "1   -1.566107 -1.355574  0.989167  1.185039    0.0  2.031623 -1.942303   \n",
       "2    0.827377 -1.355574 -0.211544 -0.664120    0.0 -0.787578  0.585954   \n",
       "3   -1.566107 -1.355574  0.688989  1.185039    0.0  1.419297  0.585954   \n",
       "4    0.827377  0.737695  0.688989 -0.664120    0.0 -0.781471  0.585954   \n",
       "..        ...       ...       ...       ...    ...       ...       ...   \n",
       "886 -0.369365  0.737695 -0.111485 -0.664120    0.0 -0.539655  0.585954   \n",
       "887 -1.566107 -1.355574 -0.911960 -0.664120    0.0  0.290823  0.585954   \n",
       "888  0.827377 -1.355574  0.158587  1.185039    0.0 -0.029155  0.585954   \n",
       "889 -1.566107  0.737695 -0.211544 -0.664120    0.0  0.290823 -1.942303   \n",
       "890  0.827377  0.737695  0.388811 -0.664120    0.0 -0.796127 -0.678175   \n",
       "\n",
       "        class       who  adult_male  embark_town     alive     alone  \n",
       "0    0.827377 -0.355242    0.811922     0.585954 -0.789272 -1.231645  \n",
       "1   -1.566107  1.328379   -1.231645    -1.942303  1.266990 -1.231645  \n",
       "2    0.827377  1.328379   -1.231645     0.585954  1.266990  0.811922  \n",
       "3   -1.566107  1.328379   -1.231645     0.585954  1.266990 -1.231645  \n",
       "4    0.827377 -0.355242    0.811922     0.585954 -0.789272  0.811922  \n",
       "..        ...       ...         ...          ...       ...       ...  \n",
       "886 -0.369365 -0.355242    0.811922     0.585954 -0.789272  0.811922  \n",
       "887 -1.566107  1.328379   -1.231645     0.585954  1.266990  0.811922  \n",
       "888  0.827377  1.328379   -1.231645     0.585954 -0.789272 -1.231645  \n",
       "889 -1.566107 -0.355242    0.811922    -1.942303  1.266990  0.811922  \n",
       "890  0.827377 -0.355242    0.811922    -0.678175 -0.789272  0.811922  \n",
       "\n",
       "[891 rows x 13 columns]"
      ]
     },
     "execution_count": 57,
     "metadata": {},
     "output_type": "execute_result"
    }
   ],
   "source": [
    "from sklearn.preprocessing import StandardScaler\n",
    "name = x.columns\n",
    "SS = StandardScaler()\n",
    "z = SS.fit_transform(x)\n",
    "x = pd.DataFrame(z,columns=name)\n",
    "x"
   ]
  },
  {
   "cell_type": "markdown",
   "id": "0fab4d68",
   "metadata": {},
   "source": [
    "# Train and Test Split"
   ]
  },
  {
   "cell_type": "code",
   "execution_count": 58,
   "id": "b73840ad",
   "metadata": {},
   "outputs": [],
   "source": [
    "from sklearn.model_selection import train_test_split\n",
    "x_train,x_test,y_train,y_test = train_test_split(x,y,test_size=0.2,random_state=0)"
   ]
  },
  {
   "cell_type": "code",
   "execution_count": 59,
   "id": "4525c6ef",
   "metadata": {},
   "outputs": [
    {
     "data": {
      "text/html": [
       "<div>\n",
       "<style scoped>\n",
       "    .dataframe tbody tr th:only-of-type {\n",
       "        vertical-align: middle;\n",
       "    }\n",
       "\n",
       "    .dataframe tbody tr th {\n",
       "        vertical-align: top;\n",
       "    }\n",
       "\n",
       "    .dataframe thead th {\n",
       "        text-align: right;\n",
       "    }\n",
       "</style>\n",
       "<table border=\"1\" class=\"dataframe\">\n",
       "  <thead>\n",
       "    <tr style=\"text-align: right;\">\n",
       "      <th></th>\n",
       "      <th>pclass</th>\n",
       "      <th>sex</th>\n",
       "      <th>age</th>\n",
       "      <th>sibsp</th>\n",
       "      <th>parch</th>\n",
       "      <th>fare</th>\n",
       "      <th>embarked</th>\n",
       "      <th>class</th>\n",
       "      <th>who</th>\n",
       "      <th>adult_male</th>\n",
       "      <th>embark_town</th>\n",
       "      <th>alive</th>\n",
       "      <th>alone</th>\n",
       "    </tr>\n",
       "  </thead>\n",
       "  <tbody>\n",
       "    <tr>\n",
       "      <th>140</th>\n",
       "      <td>0.827377</td>\n",
       "      <td>-1.355574</td>\n",
       "      <td>0.158587</td>\n",
       "      <td>-0.664120</td>\n",
       "      <td>0.0</td>\n",
       "      <td>-0.429944</td>\n",
       "      <td>-1.942303</td>\n",
       "      <td>0.827377</td>\n",
       "      <td>1.328379</td>\n",
       "      <td>-1.231645</td>\n",
       "      <td>-1.942303</td>\n",
       "      <td>-0.789272</td>\n",
       "      <td>-1.231645</td>\n",
       "    </tr>\n",
       "    <tr>\n",
       "      <th>439</th>\n",
       "      <td>-0.369365</td>\n",
       "      <td>0.737695</td>\n",
       "      <td>0.288752</td>\n",
       "      <td>-0.664120</td>\n",
       "      <td>0.0</td>\n",
       "      <td>-0.661785</td>\n",
       "      <td>0.585954</td>\n",
       "      <td>-0.369365</td>\n",
       "      <td>-0.355242</td>\n",
       "      <td>0.811922</td>\n",
       "      <td>0.585954</td>\n",
       "      <td>-0.789272</td>\n",
       "      <td>0.811922</td>\n",
       "    </tr>\n",
       "    <tr>\n",
       "      <th>817</th>\n",
       "      <td>-0.369365</td>\n",
       "      <td>0.737695</td>\n",
       "      <td>0.288752</td>\n",
       "      <td>1.185039</td>\n",
       "      <td>0.0</td>\n",
       "      <td>0.632990</td>\n",
       "      <td>-1.942303</td>\n",
       "      <td>-0.369365</td>\n",
       "      <td>-0.355242</td>\n",
       "      <td>0.811922</td>\n",
       "      <td>-1.942303</td>\n",
       "      <td>-0.789272</td>\n",
       "      <td>-1.231645</td>\n",
       "    </tr>\n",
       "    <tr>\n",
       "      <th>378</th>\n",
       "      <td>0.827377</td>\n",
       "      <td>0.737695</td>\n",
       "      <td>-0.811900</td>\n",
       "      <td>-0.664120</td>\n",
       "      <td>0.0</td>\n",
       "      <td>-0.978710</td>\n",
       "      <td>-1.942303</td>\n",
       "      <td>0.827377</td>\n",
       "      <td>-0.355242</td>\n",
       "      <td>0.811922</td>\n",
       "      <td>-1.942303</td>\n",
       "      <td>-0.789272</td>\n",
       "      <td>0.811922</td>\n",
       "    </tr>\n",
       "    <tr>\n",
       "      <th>491</th>\n",
       "      <td>0.827377</td>\n",
       "      <td>0.737695</td>\n",
       "      <td>-0.711841</td>\n",
       "      <td>-0.664120</td>\n",
       "      <td>0.0</td>\n",
       "      <td>-0.820552</td>\n",
       "      <td>0.585954</td>\n",
       "      <td>0.827377</td>\n",
       "      <td>-0.355242</td>\n",
       "      <td>0.811922</td>\n",
       "      <td>0.585954</td>\n",
       "      <td>-0.789272</td>\n",
       "      <td>0.811922</td>\n",
       "    </tr>\n",
       "    <tr>\n",
       "      <th>...</th>\n",
       "      <td>...</td>\n",
       "      <td>...</td>\n",
       "      <td>...</td>\n",
       "      <td>...</td>\n",
       "      <td>...</td>\n",
       "      <td>...</td>\n",
       "      <td>...</td>\n",
       "      <td>...</td>\n",
       "      <td>...</td>\n",
       "      <td>...</td>\n",
       "      <td>...</td>\n",
       "      <td>...</td>\n",
       "      <td>...</td>\n",
       "    </tr>\n",
       "    <tr>\n",
       "      <th>835</th>\n",
       "      <td>-1.566107</td>\n",
       "      <td>-1.355574</td>\n",
       "      <td>1.089227</td>\n",
       "      <td>1.185039</td>\n",
       "      <td>0.0</td>\n",
       "      <td>2.031623</td>\n",
       "      <td>-1.942303</td>\n",
       "      <td>-1.566107</td>\n",
       "      <td>1.328379</td>\n",
       "      <td>-1.231645</td>\n",
       "      <td>-1.942303</td>\n",
       "      <td>1.266990</td>\n",
       "      <td>-1.231645</td>\n",
       "    </tr>\n",
       "    <tr>\n",
       "      <th>192</th>\n",
       "      <td>0.827377</td>\n",
       "      <td>-1.355574</td>\n",
       "      <td>-0.911960</td>\n",
       "      <td>1.185039</td>\n",
       "      <td>0.0</td>\n",
       "      <td>-0.791036</td>\n",
       "      <td>0.585954</td>\n",
       "      <td>0.827377</td>\n",
       "      <td>1.328379</td>\n",
       "      <td>-1.231645</td>\n",
       "      <td>0.585954</td>\n",
       "      <td>1.266990</td>\n",
       "      <td>-1.231645</td>\n",
       "    </tr>\n",
       "    <tr>\n",
       "      <th>629</th>\n",
       "      <td>0.827377</td>\n",
       "      <td>0.737695</td>\n",
       "      <td>0.158587</td>\n",
       "      <td>-0.664120</td>\n",
       "      <td>0.0</td>\n",
       "      <td>-0.796942</td>\n",
       "      <td>-0.678175</td>\n",
       "      <td>0.827377</td>\n",
       "      <td>-0.355242</td>\n",
       "      <td>0.811922</td>\n",
       "      <td>-0.678175</td>\n",
       "      <td>-0.789272</td>\n",
       "      <td>0.811922</td>\n",
       "    </tr>\n",
       "    <tr>\n",
       "      <th>559</th>\n",
       "      <td>0.827377</td>\n",
       "      <td>-1.355574</td>\n",
       "      <td>0.789049</td>\n",
       "      <td>1.185039</td>\n",
       "      <td>0.0</td>\n",
       "      <td>-0.324708</td>\n",
       "      <td>0.585954</td>\n",
       "      <td>0.827377</td>\n",
       "      <td>1.328379</td>\n",
       "      <td>-1.231645</td>\n",
       "      <td>0.585954</td>\n",
       "      <td>1.266990</td>\n",
       "      <td>-1.231645</td>\n",
       "    </tr>\n",
       "    <tr>\n",
       "      <th>684</th>\n",
       "      <td>-0.369365</td>\n",
       "      <td>0.737695</td>\n",
       "      <td>1.339375</td>\n",
       "      <td>1.185039</td>\n",
       "      <td>0.0</td>\n",
       "      <td>0.730488</td>\n",
       "      <td>0.585954</td>\n",
       "      <td>-0.369365</td>\n",
       "      <td>-0.355242</td>\n",
       "      <td>0.811922</td>\n",
       "      <td>0.585954</td>\n",
       "      <td>-0.789272</td>\n",
       "      <td>-1.231645</td>\n",
       "    </tr>\n",
       "  </tbody>\n",
       "</table>\n",
       "<p>712 rows × 13 columns</p>\n",
       "</div>"
      ],
      "text/plain": [
       "       pclass       sex       age     sibsp  parch      fare  embarked  \\\n",
       "140  0.827377 -1.355574  0.158587 -0.664120    0.0 -0.429944 -1.942303   \n",
       "439 -0.369365  0.737695  0.288752 -0.664120    0.0 -0.661785  0.585954   \n",
       "817 -0.369365  0.737695  0.288752  1.185039    0.0  0.632990 -1.942303   \n",
       "378  0.827377  0.737695 -0.811900 -0.664120    0.0 -0.978710 -1.942303   \n",
       "491  0.827377  0.737695 -0.711841 -0.664120    0.0 -0.820552  0.585954   \n",
       "..        ...       ...       ...       ...    ...       ...       ...   \n",
       "835 -1.566107 -1.355574  1.089227  1.185039    0.0  2.031623 -1.942303   \n",
       "192  0.827377 -1.355574 -0.911960  1.185039    0.0 -0.791036  0.585954   \n",
       "629  0.827377  0.737695  0.158587 -0.664120    0.0 -0.796942 -0.678175   \n",
       "559  0.827377 -1.355574  0.789049  1.185039    0.0 -0.324708  0.585954   \n",
       "684 -0.369365  0.737695  1.339375  1.185039    0.0  0.730488  0.585954   \n",
       "\n",
       "        class       who  adult_male  embark_town     alive     alone  \n",
       "140  0.827377  1.328379   -1.231645    -1.942303 -0.789272 -1.231645  \n",
       "439 -0.369365 -0.355242    0.811922     0.585954 -0.789272  0.811922  \n",
       "817 -0.369365 -0.355242    0.811922    -1.942303 -0.789272 -1.231645  \n",
       "378  0.827377 -0.355242    0.811922    -1.942303 -0.789272  0.811922  \n",
       "491  0.827377 -0.355242    0.811922     0.585954 -0.789272  0.811922  \n",
       "..        ...       ...         ...          ...       ...       ...  \n",
       "835 -1.566107  1.328379   -1.231645    -1.942303  1.266990 -1.231645  \n",
       "192  0.827377  1.328379   -1.231645     0.585954  1.266990 -1.231645  \n",
       "629  0.827377 -0.355242    0.811922    -0.678175 -0.789272  0.811922  \n",
       "559  0.827377  1.328379   -1.231645     0.585954  1.266990 -1.231645  \n",
       "684 -0.369365 -0.355242    0.811922     0.585954 -0.789272 -1.231645  \n",
       "\n",
       "[712 rows x 13 columns]"
      ]
     },
     "execution_count": 59,
     "metadata": {},
     "output_type": "execute_result"
    }
   ],
   "source": [
    "x_train"
   ]
  },
  {
   "cell_type": "code",
   "execution_count": 60,
   "id": "5f741df9",
   "metadata": {},
   "outputs": [
    {
     "data": {
      "text/html": [
       "<div>\n",
       "<style scoped>\n",
       "    .dataframe tbody tr th:only-of-type {\n",
       "        vertical-align: middle;\n",
       "    }\n",
       "\n",
       "    .dataframe tbody tr th {\n",
       "        vertical-align: top;\n",
       "    }\n",
       "\n",
       "    .dataframe thead th {\n",
       "        text-align: right;\n",
       "    }\n",
       "</style>\n",
       "<table border=\"1\" class=\"dataframe\">\n",
       "  <thead>\n",
       "    <tr style=\"text-align: right;\">\n",
       "      <th></th>\n",
       "      <th>pclass</th>\n",
       "      <th>sex</th>\n",
       "      <th>age</th>\n",
       "      <th>sibsp</th>\n",
       "      <th>parch</th>\n",
       "      <th>fare</th>\n",
       "      <th>embarked</th>\n",
       "      <th>class</th>\n",
       "      <th>who</th>\n",
       "      <th>adult_male</th>\n",
       "      <th>embark_town</th>\n",
       "      <th>alive</th>\n",
       "      <th>alone</th>\n",
       "    </tr>\n",
       "  </thead>\n",
       "  <tbody>\n",
       "    <tr>\n",
       "      <th>495</th>\n",
       "      <td>0.827377</td>\n",
       "      <td>0.737695</td>\n",
       "      <td>0.158587</td>\n",
       "      <td>-0.664120</td>\n",
       "      <td>0.0</td>\n",
       "      <td>-0.468415</td>\n",
       "      <td>-1.942303</td>\n",
       "      <td>0.827377</td>\n",
       "      <td>-0.355242</td>\n",
       "      <td>0.811922</td>\n",
       "      <td>-1.942303</td>\n",
       "      <td>-0.789272</td>\n",
       "      <td>0.811922</td>\n",
       "    </tr>\n",
       "    <tr>\n",
       "      <th>648</th>\n",
       "      <td>0.827377</td>\n",
       "      <td>0.737695</td>\n",
       "      <td>0.158587</td>\n",
       "      <td>-0.664120</td>\n",
       "      <td>0.0</td>\n",
       "      <td>-0.805897</td>\n",
       "      <td>0.585954</td>\n",
       "      <td>0.827377</td>\n",
       "      <td>-0.355242</td>\n",
       "      <td>0.811922</td>\n",
       "      <td>0.585954</td>\n",
       "      <td>-0.789272</td>\n",
       "      <td>0.811922</td>\n",
       "    </tr>\n",
       "    <tr>\n",
       "      <th>278</th>\n",
       "      <td>0.827377</td>\n",
       "      <td>0.737695</td>\n",
       "      <td>-2.112672</td>\n",
       "      <td>2.109618</td>\n",
       "      <td>0.0</td>\n",
       "      <td>0.248078</td>\n",
       "      <td>-0.678175</td>\n",
       "      <td>0.827377</td>\n",
       "      <td>-2.038863</td>\n",
       "      <td>-1.231645</td>\n",
       "      <td>-0.678175</td>\n",
       "      <td>-0.789272</td>\n",
       "      <td>-1.231645</td>\n",
       "    </tr>\n",
       "    <tr>\n",
       "      <th>31</th>\n",
       "      <td>-1.566107</td>\n",
       "      <td>-1.355574</td>\n",
       "      <td>0.158587</td>\n",
       "      <td>1.185039</td>\n",
       "      <td>0.0</td>\n",
       "      <td>2.031623</td>\n",
       "      <td>-1.942303</td>\n",
       "      <td>-1.566107</td>\n",
       "      <td>1.328379</td>\n",
       "      <td>-1.231645</td>\n",
       "      <td>-1.942303</td>\n",
       "      <td>1.266990</td>\n",
       "      <td>-1.231645</td>\n",
       "    </tr>\n",
       "    <tr>\n",
       "      <th>255</th>\n",
       "      <td>0.827377</td>\n",
       "      <td>-1.355574</td>\n",
       "      <td>0.088633</td>\n",
       "      <td>-0.664120</td>\n",
       "      <td>0.0</td>\n",
       "      <td>-0.429944</td>\n",
       "      <td>-1.942303</td>\n",
       "      <td>0.827377</td>\n",
       "      <td>1.328379</td>\n",
       "      <td>-1.231645</td>\n",
       "      <td>-1.942303</td>\n",
       "      <td>1.266990</td>\n",
       "      <td>-1.231645</td>\n",
       "    </tr>\n",
       "    <tr>\n",
       "      <th>...</th>\n",
       "      <td>...</td>\n",
       "      <td>...</td>\n",
       "      <td>...</td>\n",
       "      <td>...</td>\n",
       "      <td>...</td>\n",
       "      <td>...</td>\n",
       "      <td>...</td>\n",
       "      <td>...</td>\n",
       "      <td>...</td>\n",
       "      <td>...</td>\n",
       "      <td>...</td>\n",
       "      <td>...</td>\n",
       "      <td>...</td>\n",
       "    </tr>\n",
       "    <tr>\n",
       "      <th>780</th>\n",
       "      <td>0.827377</td>\n",
       "      <td>-1.355574</td>\n",
       "      <td>-1.512316</td>\n",
       "      <td>-0.664120</td>\n",
       "      <td>0.0</td>\n",
       "      <td>-0.821569</td>\n",
       "      <td>-1.942303</td>\n",
       "      <td>0.827377</td>\n",
       "      <td>-2.038863</td>\n",
       "      <td>-1.231645</td>\n",
       "      <td>-1.942303</td>\n",
       "      <td>1.266990</td>\n",
       "      <td>0.811922</td>\n",
       "    </tr>\n",
       "    <tr>\n",
       "      <th>837</th>\n",
       "      <td>0.827377</td>\n",
       "      <td>0.737695</td>\n",
       "      <td>0.158587</td>\n",
       "      <td>-0.664120</td>\n",
       "      <td>0.0</td>\n",
       "      <td>-0.781471</td>\n",
       "      <td>0.585954</td>\n",
       "      <td>0.827377</td>\n",
       "      <td>-0.355242</td>\n",
       "      <td>0.811922</td>\n",
       "      <td>0.585954</td>\n",
       "      <td>-0.789272</td>\n",
       "      <td>0.811922</td>\n",
       "    </tr>\n",
       "    <tr>\n",
       "      <th>215</th>\n",
       "      <td>-1.566107</td>\n",
       "      <td>-1.355574</td>\n",
       "      <td>0.288752</td>\n",
       "      <td>1.185039</td>\n",
       "      <td>0.0</td>\n",
       "      <td>2.031623</td>\n",
       "      <td>-1.942303</td>\n",
       "      <td>-1.566107</td>\n",
       "      <td>1.328379</td>\n",
       "      <td>-1.231645</td>\n",
       "      <td>-1.942303</td>\n",
       "      <td>1.266990</td>\n",
       "      <td>-1.231645</td>\n",
       "    </tr>\n",
       "    <tr>\n",
       "      <th>833</th>\n",
       "      <td>0.827377</td>\n",
       "      <td>0.737695</td>\n",
       "      <td>-0.511722</td>\n",
       "      <td>-0.664120</td>\n",
       "      <td>0.0</td>\n",
       "      <td>-0.791036</td>\n",
       "      <td>0.585954</td>\n",
       "      <td>0.827377</td>\n",
       "      <td>-0.355242</td>\n",
       "      <td>0.811922</td>\n",
       "      <td>0.585954</td>\n",
       "      <td>-0.789272</td>\n",
       "      <td>0.811922</td>\n",
       "    </tr>\n",
       "    <tr>\n",
       "      <th>372</th>\n",
       "      <td>0.827377</td>\n",
       "      <td>0.737695</td>\n",
       "      <td>-0.911960</td>\n",
       "      <td>-0.664120</td>\n",
       "      <td>0.0</td>\n",
       "      <td>-0.781471</td>\n",
       "      <td>0.585954</td>\n",
       "      <td>0.827377</td>\n",
       "      <td>-0.355242</td>\n",
       "      <td>0.811922</td>\n",
       "      <td>0.585954</td>\n",
       "      <td>-0.789272</td>\n",
       "      <td>0.811922</td>\n",
       "    </tr>\n",
       "  </tbody>\n",
       "</table>\n",
       "<p>179 rows × 13 columns</p>\n",
       "</div>"
      ],
      "text/plain": [
       "       pclass       sex       age     sibsp  parch      fare  embarked  \\\n",
       "495  0.827377  0.737695  0.158587 -0.664120    0.0 -0.468415 -1.942303   \n",
       "648  0.827377  0.737695  0.158587 -0.664120    0.0 -0.805897  0.585954   \n",
       "278  0.827377  0.737695 -2.112672  2.109618    0.0  0.248078 -0.678175   \n",
       "31  -1.566107 -1.355574  0.158587  1.185039    0.0  2.031623 -1.942303   \n",
       "255  0.827377 -1.355574  0.088633 -0.664120    0.0 -0.429944 -1.942303   \n",
       "..        ...       ...       ...       ...    ...       ...       ...   \n",
       "780  0.827377 -1.355574 -1.512316 -0.664120    0.0 -0.821569 -1.942303   \n",
       "837  0.827377  0.737695  0.158587 -0.664120    0.0 -0.781471  0.585954   \n",
       "215 -1.566107 -1.355574  0.288752  1.185039    0.0  2.031623 -1.942303   \n",
       "833  0.827377  0.737695 -0.511722 -0.664120    0.0 -0.791036  0.585954   \n",
       "372  0.827377  0.737695 -0.911960 -0.664120    0.0 -0.781471  0.585954   \n",
       "\n",
       "        class       who  adult_male  embark_town     alive     alone  \n",
       "495  0.827377 -0.355242    0.811922    -1.942303 -0.789272  0.811922  \n",
       "648  0.827377 -0.355242    0.811922     0.585954 -0.789272  0.811922  \n",
       "278  0.827377 -2.038863   -1.231645    -0.678175 -0.789272 -1.231645  \n",
       "31  -1.566107  1.328379   -1.231645    -1.942303  1.266990 -1.231645  \n",
       "255  0.827377  1.328379   -1.231645    -1.942303  1.266990 -1.231645  \n",
       "..        ...       ...         ...          ...       ...       ...  \n",
       "780  0.827377 -2.038863   -1.231645    -1.942303  1.266990  0.811922  \n",
       "837  0.827377 -0.355242    0.811922     0.585954 -0.789272  0.811922  \n",
       "215 -1.566107  1.328379   -1.231645    -1.942303  1.266990 -1.231645  \n",
       "833  0.827377 -0.355242    0.811922     0.585954 -0.789272  0.811922  \n",
       "372  0.827377 -0.355242    0.811922     0.585954 -0.789272  0.811922  \n",
       "\n",
       "[179 rows x 13 columns]"
      ]
     },
     "execution_count": 60,
     "metadata": {},
     "output_type": "execute_result"
    }
   ],
   "source": [
    "x_test"
   ]
  },
  {
   "cell_type": "code",
   "execution_count": 61,
   "id": "d7272981",
   "metadata": {},
   "outputs": [
    {
     "data": {
      "text/plain": [
       "140    0\n",
       "439    0\n",
       "817    0\n",
       "378    0\n",
       "491    0\n",
       "      ..\n",
       "835    1\n",
       "192    1\n",
       "629    0\n",
       "559    1\n",
       "684    0\n",
       "Name: survived, Length: 712, dtype: int64"
      ]
     },
     "execution_count": 61,
     "metadata": {},
     "output_type": "execute_result"
    }
   ],
   "source": [
    "y_train"
   ]
  },
  {
   "cell_type": "code",
   "execution_count": 62,
   "id": "352c8f08",
   "metadata": {},
   "outputs": [
    {
     "data": {
      "text/plain": [
       "495    0\n",
       "648    0\n",
       "278    0\n",
       "31     1\n",
       "255    1\n",
       "      ..\n",
       "780    1\n",
       "837    0\n",
       "215    1\n",
       "833    0\n",
       "372    0\n",
       "Name: survived, Length: 179, dtype: int64"
      ]
     },
     "execution_count": 62,
     "metadata": {},
     "output_type": "execute_result"
    }
   ],
   "source": [
    "y_test"
   ]
  }
 ],
 "metadata": {
  "kernelspec": {
   "display_name": "Python 3 (ipykernel)",
   "language": "python",
   "name": "python3"
  },
  "language_info": {
   "codemirror_mode": {
    "name": "ipython",
    "version": 3
   },
   "file_extension": ".py",
   "mimetype": "text/x-python",
   "name": "python",
   "nbconvert_exporter": "python",
   "pygments_lexer": "ipython3",
   "version": "3.9.13"
  }
 },
 "nbformat": 4,
 "nbformat_minor": 5
}
