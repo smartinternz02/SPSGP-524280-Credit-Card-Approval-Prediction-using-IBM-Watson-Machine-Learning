{
 "cells": [
  {
   "cell_type": "markdown",
   "id": "75091cbc",
   "metadata": {},
   "source": [
    "# ADS Assignment 3"
   ]
  },
  {
   "cell_type": "markdown",
   "id": "60f4695f",
   "metadata": {},
   "source": [
    "Problem Statement: House Price Prediction\n",
    "\n",
    "Description:- \n",
    "\n",
    "House price prediction is a common problem in the real estate industry and\n",
    "involves predicting the selling price of a house based on various features and attributes. The\n",
    "problem is typically approached as a regression problem, where the target variable is the price\n",
    "of the house, and the features are various attributes of the house\n",
    "The features used in house price prediction can include both quantitative and categorical\n",
    "variables, such as the number of bedrooms, house area, bedrooms, furnished, nearness to\n",
    "main road, and various amenities such as a garage and other factors that may influence the\n",
    "value of the property.\n",
    "Accurate predictions can help agents and appraisers price homes correctly, while\n",
    "homeowners can use the predictions to set a reasonable asking price for their properties.\n",
    "Accurate house price prediction can also be useful for buyers who are looking to make\n",
    "informed decisions about purchasing a property and obtaining a fair price for their\n",
    "investment."
   ]
  },
  {
   "cell_type": "markdown",
   "id": "5f2919e0",
   "metadata": {},
   "source": [
    "## Attribute Information:"
   ]
  },
  {
   "cell_type": "raw",
   "id": "29c58aa0",
   "metadata": {},
   "source": [
    "Name - Description\n",
    "1- Price-Prices of the houses\n",
    "2- Area- Area of the houses\n",
    "3- Bedrooms- No of house bedrooms\n",
    "4- Bathrooms- No of bathrooms\n",
    "5- Stories- No of house stories\n",
    "6- Main Road- Weather connected to Main road\n",
    "7- Guestroom-Weather has a guest room\n",
    "8- Basement-Weather has a basement\n",
    "9- Hot water heating- Weather has a hot water heater\n",
    "10-Airconditioning-Weather has a air conditioner\n",
    "11-Parking- No of house parking\n",
    "12-Furnishing Status-Furnishing status of house"
   ]
  },
  {
   "cell_type": "markdown",
   "id": "f9ae9138",
   "metadata": {},
   "source": [
    "## 1. Download the dataset: titanic.csv\n",
    "## 2. Load the dataset."
   ]
  },
  {
   "cell_type": "code",
   "execution_count": 1,
   "id": "dbed0ea8",
   "metadata": {},
   "outputs": [],
   "source": [
    "# Loading necessary libraries\n",
    "import numpy as np\n",
    "import pandas as pd\n",
    "import matplotlib.pyplot as plt\n",
    "import seaborn as sns\n"
   ]
  },
  {
   "cell_type": "code",
   "execution_count": 2,
   "id": "69dbda53",
   "metadata": {},
   "outputs": [
    {
     "data": {
      "text/html": [
       "<div>\n",
       "<style scoped>\n",
       "    .dataframe tbody tr th:only-of-type {\n",
       "        vertical-align: middle;\n",
       "    }\n",
       "\n",
       "    .dataframe tbody tr th {\n",
       "        vertical-align: top;\n",
       "    }\n",
       "\n",
       "    .dataframe thead th {\n",
       "        text-align: right;\n",
       "    }\n",
       "</style>\n",
       "<table border=\"1\" class=\"dataframe\">\n",
       "  <thead>\n",
       "    <tr style=\"text-align: right;\">\n",
       "      <th></th>\n",
       "      <th>price</th>\n",
       "      <th>area</th>\n",
       "      <th>bedrooms</th>\n",
       "      <th>bathrooms</th>\n",
       "      <th>stories</th>\n",
       "      <th>mainroad</th>\n",
       "      <th>guestroom</th>\n",
       "      <th>basement</th>\n",
       "      <th>hotwaterheating</th>\n",
       "      <th>airconditioning</th>\n",
       "      <th>parking</th>\n",
       "      <th>furnishingstatus</th>\n",
       "    </tr>\n",
       "  </thead>\n",
       "  <tbody>\n",
       "    <tr>\n",
       "      <th>0</th>\n",
       "      <td>13300000</td>\n",
       "      <td>7420</td>\n",
       "      <td>4</td>\n",
       "      <td>2</td>\n",
       "      <td>3</td>\n",
       "      <td>yes</td>\n",
       "      <td>no</td>\n",
       "      <td>no</td>\n",
       "      <td>no</td>\n",
       "      <td>yes</td>\n",
       "      <td>2</td>\n",
       "      <td>furnished</td>\n",
       "    </tr>\n",
       "    <tr>\n",
       "      <th>1</th>\n",
       "      <td>12250000</td>\n",
       "      <td>8960</td>\n",
       "      <td>4</td>\n",
       "      <td>4</td>\n",
       "      <td>4</td>\n",
       "      <td>yes</td>\n",
       "      <td>no</td>\n",
       "      <td>no</td>\n",
       "      <td>no</td>\n",
       "      <td>yes</td>\n",
       "      <td>3</td>\n",
       "      <td>furnished</td>\n",
       "    </tr>\n",
       "    <tr>\n",
       "      <th>2</th>\n",
       "      <td>12250000</td>\n",
       "      <td>9960</td>\n",
       "      <td>3</td>\n",
       "      <td>2</td>\n",
       "      <td>2</td>\n",
       "      <td>yes</td>\n",
       "      <td>no</td>\n",
       "      <td>yes</td>\n",
       "      <td>no</td>\n",
       "      <td>no</td>\n",
       "      <td>2</td>\n",
       "      <td>semi-furnished</td>\n",
       "    </tr>\n",
       "    <tr>\n",
       "      <th>3</th>\n",
       "      <td>12215000</td>\n",
       "      <td>7500</td>\n",
       "      <td>4</td>\n",
       "      <td>2</td>\n",
       "      <td>2</td>\n",
       "      <td>yes</td>\n",
       "      <td>no</td>\n",
       "      <td>yes</td>\n",
       "      <td>no</td>\n",
       "      <td>yes</td>\n",
       "      <td>3</td>\n",
       "      <td>furnished</td>\n",
       "    </tr>\n",
       "    <tr>\n",
       "      <th>4</th>\n",
       "      <td>11410000</td>\n",
       "      <td>7420</td>\n",
       "      <td>4</td>\n",
       "      <td>1</td>\n",
       "      <td>2</td>\n",
       "      <td>yes</td>\n",
       "      <td>yes</td>\n",
       "      <td>yes</td>\n",
       "      <td>no</td>\n",
       "      <td>yes</td>\n",
       "      <td>2</td>\n",
       "      <td>furnished</td>\n",
       "    </tr>\n",
       "  </tbody>\n",
       "</table>\n",
       "</div>"
      ],
      "text/plain": [
       "      price  area  bedrooms  bathrooms  stories mainroad guestroom basement  \\\n",
       "0  13300000  7420         4          2        3      yes        no       no   \n",
       "1  12250000  8960         4          4        4      yes        no       no   \n",
       "2  12250000  9960         3          2        2      yes        no      yes   \n",
       "3  12215000  7500         4          2        2      yes        no      yes   \n",
       "4  11410000  7420         4          1        2      yes       yes      yes   \n",
       "\n",
       "  hotwaterheating airconditioning  parking furnishingstatus  \n",
       "0              no             yes        2        furnished  \n",
       "1              no             yes        3        furnished  \n",
       "2              no              no        2   semi-furnished  \n",
       "3              no             yes        3        furnished  \n",
       "4              no             yes        2        furnished  "
      ]
     },
     "execution_count": 2,
     "metadata": {},
     "output_type": "execute_result"
    }
   ],
   "source": [
    "# Loading the dataset\n",
    "df = pd.read_csv('Housing.csv')\n",
    "df.head()"
   ]
  },
  {
   "cell_type": "code",
   "execution_count": 3,
   "id": "fdafc493",
   "metadata": {},
   "outputs": [
    {
     "data": {
      "text/plain": [
       "(545, 12)"
      ]
     },
     "execution_count": 3,
     "metadata": {},
     "output_type": "execute_result"
    }
   ],
   "source": [
    "df.shape"
   ]
  },
  {
   "cell_type": "code",
   "execution_count": 4,
   "id": "6d7123bb",
   "metadata": {},
   "outputs": [
    {
     "name": "stdout",
     "output_type": "stream",
     "text": [
      "<class 'pandas.core.frame.DataFrame'>\n",
      "RangeIndex: 545 entries, 0 to 544\n",
      "Data columns (total 12 columns):\n",
      " #   Column            Non-Null Count  Dtype \n",
      "---  ------            --------------  ----- \n",
      " 0   price             545 non-null    int64 \n",
      " 1   area              545 non-null    int64 \n",
      " 2   bedrooms          545 non-null    int64 \n",
      " 3   bathrooms         545 non-null    int64 \n",
      " 4   stories           545 non-null    int64 \n",
      " 5   mainroad          545 non-null    object\n",
      " 6   guestroom         545 non-null    object\n",
      " 7   basement          545 non-null    object\n",
      " 8   hotwaterheating   545 non-null    object\n",
      " 9   airconditioning   545 non-null    object\n",
      " 10  parking           545 non-null    int64 \n",
      " 11  furnishingstatus  545 non-null    object\n",
      "dtypes: int64(6), object(6)\n",
      "memory usage: 51.2+ KB\n"
     ]
    }
   ],
   "source": [
    "df.info()"
   ]
  },
  {
   "cell_type": "markdown",
   "id": "5f551946",
   "metadata": {},
   "source": [
    "## 3. Perform Below Visualizations.\n",
    "## ● Univariate Analysis\n"
   ]
  },
  {
   "cell_type": "code",
   "execution_count": 5,
   "id": "cce17ca0",
   "metadata": {},
   "outputs": [
    {
     "data": {
      "image/png": "[encoded data removed]",
      "text/plain": [
       "<Figure size 640x480 with 1 Axes>"
      ]
     },
     "metadata": {},
     "output_type": "display_data"
    }
   ],
   "source": [
    "plt.hist(df['price'], bins=20)\n",
    "plt.xlabel('Price')\n",
    "plt.ylabel('Frequency')\n",
    "plt.title('Distribution of Price')\n",
    "plt.show()\n"
   ]
  },
  {
   "cell_type": "markdown",
   "id": "9292b564",
   "metadata": {},
   "source": [
    "## ● Bi - Variate Analysis"
   ]
  },
  {
   "cell_type": "code",
   "execution_count": 6,
   "id": "6254637d",
   "metadata": {},
   "outputs": [
    {
     "data": {
      "image/png": "[encoded data removed]",
      "text/plain": [
       "<Figure size 640x480 with 1 Axes>"
      ]
     },
     "metadata": {},
     "output_type": "display_data"
    }
   ],
   "source": [
    "plt.scatter(df['area'], df['price'])\n",
    "plt.xlabel('area')\n",
    "plt.ylabel('Price')\n",
    "plt.title('Scatter Plot: Area vs. Price')\n",
    "plt.show()\n",
    "\n"
   ]
  },
  {
   "cell_type": "markdown",
   "id": "61eed3f5",
   "metadata": {},
   "source": [
    "## ● Multi - Variate Analysis"
   ]
  },
  {
   "cell_type": "code",
   "execution_count": 7,
   "id": "36b42a61",
   "metadata": {},
   "outputs": [
    {
     "data": {
      "image/png": "[encoded data removed]",
      "text/plain": [
       "<Figure size 800x600 with 2 Axes>"
      ]
     },
     "metadata": {},
     "output_type": "display_data"
    }
   ],
   "source": [
    "corr_matrix = df.corr()\n",
    "plt.figure(figsize=(8, 6))\n",
    "sns.heatmap(corr_matrix, annot=True, cmap='coolwarm')\n",
    "plt.title('Correlation Matrix Heatmap')\n",
    "plt.show()\n"
   ]
  },
  {
   "cell_type": "markdown",
   "id": "fb94505b",
   "metadata": {},
   "source": [
    "## 4. Perform descriptive statistics on the dataset."
   ]
  },
  {
   "cell_type": "code",
   "execution_count": 8,
   "id": "47decfb4",
   "metadata": {},
   "outputs": [
    {
     "data": {
      "text/html": [
       "<div>\n",
       "<style scoped>\n",
       "    .dataframe tbody tr th:only-of-type {\n",
       "        vertical-align: middle;\n",
       "    }\n",
       "\n",
       "    .dataframe tbody tr th {\n",
       "        vertical-align: top;\n",
       "    }\n",
       "\n",
       "    .dataframe thead th {\n",
       "        text-align: right;\n",
       "    }\n",
       "</style>\n",
       "<table border=\"1\" class=\"dataframe\">\n",
       "  <thead>\n",
       "    <tr style=\"text-align: right;\">\n",
       "      <th></th>\n",
       "      <th>price</th>\n",
       "      <th>area</th>\n",
       "      <th>bedrooms</th>\n",
       "      <th>bathrooms</th>\n",
       "      <th>stories</th>\n",
       "      <th>parking</th>\n",
       "    </tr>\n",
       "  </thead>\n",
       "  <tbody>\n",
       "    <tr>\n",
       "      <th>count</th>\n",
       "      <td>5.450000e+02</td>\n",
       "      <td>545.000000</td>\n",
       "      <td>545.000000</td>\n",
       "      <td>545.000000</td>\n",
       "      <td>545.000000</td>\n",
       "      <td>545.000000</td>\n",
       "    </tr>\n",
       "    <tr>\n",
       "      <th>mean</th>\n",
       "      <td>4.766729e+06</td>\n",
       "      <td>5150.541284</td>\n",
       "      <td>2.965138</td>\n",
       "      <td>1.286239</td>\n",
       "      <td>1.805505</td>\n",
       "      <td>0.693578</td>\n",
       "    </tr>\n",
       "    <tr>\n",
       "      <th>std</th>\n",
       "      <td>1.870440e+06</td>\n",
       "      <td>2170.141023</td>\n",
       "      <td>0.738064</td>\n",
       "      <td>0.502470</td>\n",
       "      <td>0.867492</td>\n",
       "      <td>0.861586</td>\n",
       "    </tr>\n",
       "    <tr>\n",
       "      <th>min</th>\n",
       "      <td>1.750000e+06</td>\n",
       "      <td>1650.000000</td>\n",
       "      <td>1.000000</td>\n",
       "      <td>1.000000</td>\n",
       "      <td>1.000000</td>\n",
       "      <td>0.000000</td>\n",
       "    </tr>\n",
       "    <tr>\n",
       "      <th>25%</th>\n",
       "      <td>3.430000e+06</td>\n",
       "      <td>3600.000000</td>\n",
       "      <td>2.000000</td>\n",
       "      <td>1.000000</td>\n",
       "      <td>1.000000</td>\n",
       "      <td>0.000000</td>\n",
       "    </tr>\n",
       "    <tr>\n",
       "      <th>50%</th>\n",
       "      <td>4.340000e+06</td>\n",
       "      <td>4600.000000</td>\n",
       "      <td>3.000000</td>\n",
       "      <td>1.000000</td>\n",
       "      <td>2.000000</td>\n",
       "      <td>0.000000</td>\n",
       "    </tr>\n",
       "    <tr>\n",
       "      <th>75%</th>\n",
       "      <td>5.740000e+06</td>\n",
       "      <td>6360.000000</td>\n",
       "      <td>3.000000</td>\n",
       "      <td>2.000000</td>\n",
       "      <td>2.000000</td>\n",
       "      <td>1.000000</td>\n",
       "    </tr>\n",
       "    <tr>\n",
       "      <th>max</th>\n",
       "      <td>1.330000e+07</td>\n",
       "      <td>16200.000000</td>\n",
       "      <td>6.000000</td>\n",
       "      <td>4.000000</td>\n",
       "      <td>4.000000</td>\n",
       "      <td>3.000000</td>\n",
       "    </tr>\n",
       "  </tbody>\n",
       "</table>\n",
       "</div>"
      ],
      "text/plain": [
       "              price          area    bedrooms   bathrooms     stories  \\\n",
       "count  5.450000e+02    545.000000  545.000000  545.000000  545.000000   \n",
       "mean   4.766729e+06   5150.541284    2.965138    1.286239    1.805505   \n",
       "std    1.870440e+06   2170.141023    0.738064    0.502470    0.867492   \n",
       "min    1.750000e+06   1650.000000    1.000000    1.000000    1.000000   \n",
       "25%    3.430000e+06   3600.000000    2.000000    1.000000    1.000000   \n",
       "50%    4.340000e+06   4600.000000    3.000000    1.000000    2.000000   \n",
       "75%    5.740000e+06   6360.000000    3.000000    2.000000    2.000000   \n",
       "max    1.330000e+07  16200.000000    6.000000    4.000000    4.000000   \n",
       "\n",
       "          parking  \n",
       "count  545.000000  \n",
       "mean     0.693578  \n",
       "std      0.861586  \n",
       "min      0.000000  \n",
       "25%      0.000000  \n",
       "50%      0.000000  \n",
       "75%      1.000000  \n",
       "max      3.000000  "
      ]
     },
     "execution_count": 8,
     "metadata": {},
     "output_type": "execute_result"
    }
   ],
   "source": [
    "df.describe()"
   ]
  },
  {
   "cell_type": "markdown",
   "id": "594f1d7c",
   "metadata": {},
   "source": [
    "## 5. Handle the Missing values."
   ]
  },
  {
   "cell_type": "code",
   "execution_count": 9,
   "id": "d103c7c7",
   "metadata": {},
   "outputs": [
    {
     "data": {
      "text/plain": [
       "price               0\n",
       "area                0\n",
       "bedrooms            0\n",
       "bathrooms           0\n",
       "stories             0\n",
       "mainroad            0\n",
       "guestroom           0\n",
       "basement            0\n",
       "hotwaterheating     0\n",
       "airconditioning     0\n",
       "parking             0\n",
       "furnishingstatus    0\n",
       "dtype: int64"
      ]
     },
     "execution_count": 9,
     "metadata": {},
     "output_type": "execute_result"
    }
   ],
   "source": [
    "df.isnull().sum()"
   ]
  },
  {
   "cell_type": "code",
   "execution_count": 10,
   "id": "57d2753a",
   "metadata": {},
   "outputs": [
    {
     "data": {
      "text/html": [
       "<div>\n",
       "<style scoped>\n",
       "    .dataframe tbody tr th:only-of-type {\n",
       "        vertical-align: middle;\n",
       "    }\n",
       "\n",
       "    .dataframe tbody tr th {\n",
       "        vertical-align: top;\n",
       "    }\n",
       "\n",
       "    .dataframe thead th {\n",
       "        text-align: right;\n",
       "    }\n",
       "</style>\n",
       "<table border=\"1\" class=\"dataframe\">\n",
       "  <thead>\n",
       "    <tr style=\"text-align: right;\">\n",
       "      <th></th>\n",
       "      <th>price</th>\n",
       "      <th>area</th>\n",
       "      <th>bedrooms</th>\n",
       "      <th>bathrooms</th>\n",
       "      <th>stories</th>\n",
       "      <th>mainroad</th>\n",
       "      <th>guestroom</th>\n",
       "      <th>basement</th>\n",
       "      <th>hotwaterheating</th>\n",
       "      <th>airconditioning</th>\n",
       "      <th>parking</th>\n",
       "      <th>furnishingstatus</th>\n",
       "    </tr>\n",
       "  </thead>\n",
       "  <tbody>\n",
       "    <tr>\n",
       "      <th>0</th>\n",
       "      <td>13300000</td>\n",
       "      <td>7420</td>\n",
       "      <td>4</td>\n",
       "      <td>2</td>\n",
       "      <td>3</td>\n",
       "      <td>yes</td>\n",
       "      <td>no</td>\n",
       "      <td>no</td>\n",
       "      <td>no</td>\n",
       "      <td>yes</td>\n",
       "      <td>2</td>\n",
       "      <td>furnished</td>\n",
       "    </tr>\n",
       "    <tr>\n",
       "      <th>1</th>\n",
       "      <td>12250000</td>\n",
       "      <td>8960</td>\n",
       "      <td>4</td>\n",
       "      <td>4</td>\n",
       "      <td>4</td>\n",
       "      <td>yes</td>\n",
       "      <td>no</td>\n",
       "      <td>no</td>\n",
       "      <td>no</td>\n",
       "      <td>yes</td>\n",
       "      <td>3</td>\n",
       "      <td>furnished</td>\n",
       "    </tr>\n",
       "    <tr>\n",
       "      <th>2</th>\n",
       "      <td>12250000</td>\n",
       "      <td>9960</td>\n",
       "      <td>3</td>\n",
       "      <td>2</td>\n",
       "      <td>2</td>\n",
       "      <td>yes</td>\n",
       "      <td>no</td>\n",
       "      <td>yes</td>\n",
       "      <td>no</td>\n",
       "      <td>no</td>\n",
       "      <td>2</td>\n",
       "      <td>semi-furnished</td>\n",
       "    </tr>\n",
       "    <tr>\n",
       "      <th>3</th>\n",
       "      <td>12215000</td>\n",
       "      <td>7500</td>\n",
       "      <td>4</td>\n",
       "      <td>2</td>\n",
       "      <td>2</td>\n",
       "      <td>yes</td>\n",
       "      <td>no</td>\n",
       "      <td>yes</td>\n",
       "      <td>no</td>\n",
       "      <td>yes</td>\n",
       "      <td>3</td>\n",
       "      <td>furnished</td>\n",
       "    </tr>\n",
       "    <tr>\n",
       "      <th>4</th>\n",
       "      <td>11410000</td>\n",
       "      <td>7420</td>\n",
       "      <td>4</td>\n",
       "      <td>1</td>\n",
       "      <td>2</td>\n",
       "      <td>yes</td>\n",
       "      <td>yes</td>\n",
       "      <td>yes</td>\n",
       "      <td>no</td>\n",
       "      <td>yes</td>\n",
       "      <td>2</td>\n",
       "      <td>furnished</td>\n",
       "    </tr>\n",
       "  </tbody>\n",
       "</table>\n",
       "</div>"
      ],
      "text/plain": [
       "      price  area  bedrooms  bathrooms  stories mainroad guestroom basement  \\\n",
       "0  13300000  7420         4          2        3      yes        no       no   \n",
       "1  12250000  8960         4          4        4      yes        no       no   \n",
       "2  12250000  9960         3          2        2      yes        no      yes   \n",
       "3  12215000  7500         4          2        2      yes        no      yes   \n",
       "4  11410000  7420         4          1        2      yes       yes      yes   \n",
       "\n",
       "  hotwaterheating airconditioning  parking furnishingstatus  \n",
       "0              no             yes        2        furnished  \n",
       "1              no             yes        3        furnished  \n",
       "2              no              no        2   semi-furnished  \n",
       "3              no             yes        3        furnished  \n",
       "4              no             yes        2        furnished  "
      ]
     },
     "execution_count": 10,
     "metadata": {},
     "output_type": "execute_result"
    }
   ],
   "source": [
    "df.head()"
   ]
  },
  {
   "cell_type": "markdown",
   "id": "4412b6f7",
   "metadata": {},
   "source": [
    "## 6. Find the outliers and replace the outliers"
   ]
  },
  {
   "cell_type": "code",
   "execution_count": 11,
   "id": "5ad61380",
   "metadata": {},
   "outputs": [
    {
     "name": "stdout",
     "output_type": "stream",
     "text": [
      "price               False\n",
      "area                False\n",
      "bedrooms            False\n",
      "bathrooms           False\n",
      "stories             False\n",
      "mainroad            False\n",
      "guestroom           False\n",
      "basement            False\n",
      "hotwaterheating     False\n",
      "airconditioning     False\n",
      "parking             False\n",
      "furnishingstatus    False\n",
      "dtype: bool\n"
     ]
    }
   ],
   "source": [
    "# numeric columns\n",
    "numeric_cols = ['price', 'area', 'bedrooms', 'bathrooms','stories','parking']\n",
    "\n",
    "# Calculate the IQR for each column\n",
    "Q1 = df[numeric_cols].quantile(0.25)\n",
    "Q3 = df[numeric_cols].quantile(0.75)\n",
    "IQR = Q3 - Q1\n",
    "\n",
    "# Define the lower and upper bounds for outliers\n",
    "lower_bound = Q1 - (1.5 * IQR)\n",
    "upper_bound = Q3 + (1.5 * IQR)\n",
    "\n",
    "# Replace outliers with the median value\n",
    "for col in numeric_cols:\n",
    "    df.loc[(df[col] < lower_bound[col]) | (df[col] > upper_bound[col]), col] = df[col].median()\n",
    "\n",
    "# Verify if outliers have been replaced\n",
    "outliers_replaced = df[(df[numeric_cols] < lower_bound) | (df[numeric_cols] > upper_bound)].any()\n",
    "print(outliers_replaced)\n"
   ]
  },
  {
   "cell_type": "markdown",
   "id": "4526bbb4",
   "metadata": {},
   "source": [
    "## 7. Check for Categorical columns"
   ]
  },
  {
   "cell_type": "code",
   "execution_count": 12,
   "id": "e62b11c5",
   "metadata": {},
   "outputs": [
    {
     "name": "stdout",
     "output_type": "stream",
     "text": [
      "Index(['mainroad', 'guestroom', 'basement', 'hotwaterheating',\n",
      "       'airconditioning', 'furnishingstatus'],\n",
      "      dtype='object')\n"
     ]
    },
    {
     "data": {
      "text/html": [
       "<div>\n",
       "<style scoped>\n",
       "    .dataframe tbody tr th:only-of-type {\n",
       "        vertical-align: middle;\n",
       "    }\n",
       "\n",
       "    .dataframe tbody tr th {\n",
       "        vertical-align: top;\n",
       "    }\n",
       "\n",
       "    .dataframe thead th {\n",
       "        text-align: right;\n",
       "    }\n",
       "</style>\n",
       "<table border=\"1\" class=\"dataframe\">\n",
       "  <thead>\n",
       "    <tr style=\"text-align: right;\">\n",
       "      <th></th>\n",
       "      <th>price</th>\n",
       "      <th>area</th>\n",
       "      <th>bedrooms</th>\n",
       "      <th>bathrooms</th>\n",
       "      <th>stories</th>\n",
       "      <th>mainroad</th>\n",
       "      <th>guestroom</th>\n",
       "      <th>basement</th>\n",
       "      <th>hotwaterheating</th>\n",
       "      <th>airconditioning</th>\n",
       "      <th>parking</th>\n",
       "      <th>furnishingstatus</th>\n",
       "    </tr>\n",
       "  </thead>\n",
       "  <tbody>\n",
       "    <tr>\n",
       "      <th>0</th>\n",
       "      <td>4340000</td>\n",
       "      <td>7420</td>\n",
       "      <td>4</td>\n",
       "      <td>2</td>\n",
       "      <td>3</td>\n",
       "      <td>yes</td>\n",
       "      <td>no</td>\n",
       "      <td>no</td>\n",
       "      <td>no</td>\n",
       "      <td>yes</td>\n",
       "      <td>2</td>\n",
       "      <td>furnished</td>\n",
       "    </tr>\n",
       "    <tr>\n",
       "      <th>1</th>\n",
       "      <td>4340000</td>\n",
       "      <td>8960</td>\n",
       "      <td>4</td>\n",
       "      <td>1</td>\n",
       "      <td>2</td>\n",
       "      <td>yes</td>\n",
       "      <td>no</td>\n",
       "      <td>no</td>\n",
       "      <td>no</td>\n",
       "      <td>yes</td>\n",
       "      <td>0</td>\n",
       "      <td>furnished</td>\n",
       "    </tr>\n",
       "    <tr>\n",
       "      <th>2</th>\n",
       "      <td>4340000</td>\n",
       "      <td>9960</td>\n",
       "      <td>3</td>\n",
       "      <td>2</td>\n",
       "      <td>2</td>\n",
       "      <td>yes</td>\n",
       "      <td>no</td>\n",
       "      <td>yes</td>\n",
       "      <td>no</td>\n",
       "      <td>no</td>\n",
       "      <td>2</td>\n",
       "      <td>semi-furnished</td>\n",
       "    </tr>\n",
       "    <tr>\n",
       "      <th>3</th>\n",
       "      <td>4340000</td>\n",
       "      <td>7500</td>\n",
       "      <td>4</td>\n",
       "      <td>2</td>\n",
       "      <td>2</td>\n",
       "      <td>yes</td>\n",
       "      <td>no</td>\n",
       "      <td>yes</td>\n",
       "      <td>no</td>\n",
       "      <td>yes</td>\n",
       "      <td>0</td>\n",
       "      <td>furnished</td>\n",
       "    </tr>\n",
       "    <tr>\n",
       "      <th>4</th>\n",
       "      <td>4340000</td>\n",
       "      <td>7420</td>\n",
       "      <td>4</td>\n",
       "      <td>1</td>\n",
       "      <td>2</td>\n",
       "      <td>yes</td>\n",
       "      <td>yes</td>\n",
       "      <td>yes</td>\n",
       "      <td>no</td>\n",
       "      <td>yes</td>\n",
       "      <td>2</td>\n",
       "      <td>furnished</td>\n",
       "    </tr>\n",
       "  </tbody>\n",
       "</table>\n",
       "</div>"
      ],
      "text/plain": [
       "     price  area  bedrooms  bathrooms  stories mainroad guestroom basement  \\\n",
       "0  4340000  7420         4          2        3      yes        no       no   \n",
       "1  4340000  8960         4          1        2      yes        no       no   \n",
       "2  4340000  9960         3          2        2      yes        no      yes   \n",
       "3  4340000  7500         4          2        2      yes        no      yes   \n",
       "4  4340000  7420         4          1        2      yes       yes      yes   \n",
       "\n",
       "  hotwaterheating airconditioning  parking furnishingstatus  \n",
       "0              no             yes        2        furnished  \n",
       "1              no             yes        0        furnished  \n",
       "2              no              no        2   semi-furnished  \n",
       "3              no             yes        0        furnished  \n",
       "4              no             yes        2        furnished  "
      ]
     },
     "execution_count": 12,
     "metadata": {},
     "output_type": "execute_result"
    }
   ],
   "source": [
    "# Identify categorical columns\n",
    "categorical_cols = df.select_dtypes(include='object').columns\n",
    "print(categorical_cols)\n",
    "df.head()"
   ]
  },
  {
   "cell_type": "markdown",
   "id": "70607913",
   "metadata": {},
   "source": [
    "## 8. Split the data into dependent and independent variables."
   ]
  },
  {
   "cell_type": "code",
   "execution_count": 13,
   "id": "90b304b9",
   "metadata": {},
   "outputs": [
    {
     "name": "stdout",
     "output_type": "stream",
     "text": [
      "Independent values:\n",
      "      price  area  bedrooms  bathrooms  stories mainroad guestroom basement  \\\n",
      "0  4340000  7420         4          2        3      yes        no       no   \n",
      "1  4340000  8960         4          1        2      yes        no       no   \n",
      "2  4340000  9960         3          2        2      yes        no      yes   \n",
      "3  4340000  7500         4          2        2      yes        no      yes   \n",
      "4  4340000  7420         4          1        2      yes       yes      yes   \n",
      "\n",
      "  hotwaterheating airconditioning  parking  \n",
      "0              no             yes        2  \n",
      "1              no             yes        0  \n",
      "2              no              no        2  \n",
      "3              no             yes        0  \n",
      "4              no             yes        2  \n",
      "\n",
      "Dependent variable:\n",
      " 0         furnished\n",
      "1         furnished\n",
      "2    semi-furnished\n",
      "3         furnished\n",
      "4         furnished\n",
      "Name: furnishingstatus, dtype: object\n"
     ]
    }
   ],
   "source": [
    "x = df.iloc[:,:11] # Independent variables\n",
    "y = df.iloc[:,11]  # Dependent variable\n",
    "\n",
    "# Display the independent variables (features)\n",
    "print(\"Independent values:\\n\",x.head())\n",
    "\n",
    "# Display the dependent variable (target)\n",
    "print(\"\\nDependent variable:\\n\",y.head())"
   ]
  },
  {
   "cell_type": "markdown",
   "id": "f0b72dd2",
   "metadata": {},
   "source": [
    "## perform encoding."
   ]
  },
  {
   "cell_type": "code",
   "execution_count": 14,
   "id": "f2bdc358",
   "metadata": {},
   "outputs": [],
   "source": [
    "from sklearn.compose import ColumnTransformer\n",
    "from sklearn.preprocessing import OneHotEncoder"
   ]
  },
  {
   "cell_type": "code",
   "execution_count": 15,
   "id": "670d4bd2",
   "metadata": {},
   "outputs": [],
   "source": [
    "ct=ColumnTransformer([('oh',OneHotEncoder(),[5,6,7,8,9])],remainder='passthrough')"
   ]
  },
  {
   "cell_type": "code",
   "execution_count": 16,
   "id": "082fac0a",
   "metadata": {},
   "outputs": [],
   "source": [
    "x=ct.fit_transform(x)"
   ]
  },
  {
   "cell_type": "code",
   "execution_count": 17,
   "id": "02c2e13f",
   "metadata": {},
   "outputs": [
    {
     "data": {
      "text/plain": [
       "(545, 16)"
      ]
     },
     "execution_count": 17,
     "metadata": {},
     "output_type": "execute_result"
    }
   ],
   "source": [
    "x.shape"
   ]
  },
  {
   "cell_type": "code",
   "execution_count": 18,
   "id": "861b71a9",
   "metadata": {},
   "outputs": [
    {
     "data": {
      "text/plain": [
       "array([[0., 1., 1., ..., 2., 3., 2.],\n",
       "       [0., 1., 1., ..., 1., 2., 0.],\n",
       "       [0., 1., 1., ..., 2., 2., 2.],\n",
       "       ...,\n",
       "       [0., 1., 1., ..., 1., 1., 0.],\n",
       "       [1., 0., 1., ..., 1., 1., 0.],\n",
       "       [0., 1., 1., ..., 1., 2., 0.]])"
      ]
     },
     "execution_count": 18,
     "metadata": {},
     "output_type": "execute_result"
    }
   ],
   "source": [
    "x"
   ]
  },
  {
   "cell_type": "code",
   "execution_count": 19,
   "id": "1cc94993",
   "metadata": {},
   "outputs": [],
   "source": [
    "from sklearn.preprocessing import LabelEncoder"
   ]
  },
  {
   "cell_type": "code",
   "execution_count": 20,
   "id": "96f1a77a",
   "metadata": {},
   "outputs": [],
   "source": [
    "le=LabelEncoder()"
   ]
  },
  {
   "cell_type": "code",
   "execution_count": 21,
   "id": "c54f22f7",
   "metadata": {},
   "outputs": [],
   "source": [
    "y=le.fit_transform(y)"
   ]
  },
  {
   "cell_type": "code",
   "execution_count": 22,
   "id": "fee47ca3",
   "metadata": {},
   "outputs": [
    {
     "data": {
      "text/plain": [
       "array([0, 0, 1, 0, 0, 1, 1, 2, 0, 2, 0, 1, 1, 0, 1, 1, 2, 0, 0, 1, 1, 2,\n",
       "       0, 0, 0, 0, 1, 1, 2, 1, 2, 1, 0, 2, 0, 0, 0, 0, 2, 1, 0, 0, 2, 1,\n",
       "       0, 1, 0, 0, 2, 1, 2, 2, 0, 1, 1, 2, 1, 0, 1, 0, 1, 1, 0, 0, 0, 0,\n",
       "       0, 2, 0, 0, 1, 2, 2, 0, 0, 1, 0, 0, 0, 0, 1, 1, 0, 1, 1, 0, 2, 1,\n",
       "       2, 0, 1, 0, 0, 1, 1, 1, 0, 1, 2, 2, 2, 2, 1, 0, 0, 2, 1, 2, 1, 1,\n",
       "       1, 2, 0, 0, 0, 1, 2, 0, 0, 1, 0, 1, 1, 0, 0, 1, 2, 2, 0, 1, 2, 1,\n",
       "       1, 2, 1, 2, 2, 1, 1, 0, 2, 1, 1, 2, 0, 0, 1, 1, 1, 1, 2, 1, 0, 1,\n",
       "       1, 0, 1, 0, 1, 0, 0, 1, 1, 1, 0, 2, 2, 1, 0, 1, 1, 1, 2, 2, 2, 1,\n",
       "       0, 1, 1, 1, 1, 0, 1, 1, 0, 2, 0, 1, 2, 1, 0, 1, 0, 1, 1, 1, 1, 1,\n",
       "       1, 0, 1, 1, 1, 1, 1, 1, 1, 1, 1, 2, 1, 0, 1, 1, 2, 2, 1, 0, 1, 2,\n",
       "       1, 1, 1, 0, 2, 1, 1, 0, 1, 1, 1, 1, 0, 2, 1, 1, 1, 1, 1, 0, 1, 1,\n",
       "       0, 0, 1, 2, 1, 2, 1, 0, 1, 1, 1, 0, 1, 2, 0, 0, 1, 0, 0, 1, 1, 1,\n",
       "       1, 1, 2, 1, 1, 2, 0, 1, 1, 0, 1, 0, 1, 1, 1, 0, 2, 0, 2, 0, 0, 1,\n",
       "       0, 2, 2, 1, 1, 2, 1, 2, 1, 1, 1, 2, 1, 0, 1, 1, 2, 0, 1, 1, 1, 1,\n",
       "       1, 1, 1, 1, 0, 1, 1, 1, 2, 2, 1, 1, 0, 1, 0, 1, 1, 1, 2, 1, 1, 0,\n",
       "       2, 0, 1, 1, 0, 0, 1, 2, 1, 0, 1, 1, 0, 1, 1, 1, 1, 2, 1, 1, 1, 1,\n",
       "       2, 0, 0, 0, 0, 0, 1, 2, 1, 1, 0, 1, 1, 0, 0, 2, 1, 0, 1, 1, 1, 0,\n",
       "       1, 2, 1, 2, 1, 2, 1, 1, 0, 0, 0, 2, 2, 1, 2, 1, 2, 1, 1, 2, 2, 2,\n",
       "       1, 0, 2, 1, 2, 2, 2, 2, 2, 2, 2, 0, 2, 2, 2, 0, 2, 2, 2, 0, 2, 0,\n",
       "       2, 1, 2, 2, 2, 2, 1, 0, 0, 0, 2, 2, 2, 2, 0, 1, 1, 2, 0, 2, 1, 2,\n",
       "       2, 2, 2, 2, 0, 0, 2, 1, 1, 2, 1, 1, 1, 2, 2, 2, 1, 2, 2, 2, 2, 2,\n",
       "       1, 2, 1, 2, 1, 1, 1, 0, 2, 2, 1, 2, 2, 1, 2, 2, 2, 2, 1, 0, 2, 1,\n",
       "       2, 2, 1, 2, 2, 1, 2, 0, 2, 0, 2, 2, 2, 2, 1, 2, 2, 2, 1, 1, 2, 2,\n",
       "       2, 2, 2, 0, 2, 2, 0, 2, 1, 2, 2, 2, 2, 2, 2, 2, 0, 0, 2, 2, 2, 1,\n",
       "       2, 2, 2, 2, 2, 2, 2, 2, 2, 2, 2, 2, 2, 1, 2, 0, 2])"
      ]
     },
     "execution_count": 22,
     "metadata": {},
     "output_type": "execute_result"
    }
   ],
   "source": [
    "y"
   ]
  },
  {
   "cell_type": "markdown",
   "id": "2e3b1ade",
   "metadata": {},
   "source": [
    "## 9. Scale the independent variables"
   ]
  },
  {
   "cell_type": "code",
   "execution_count": 23,
   "id": "5920ffef",
   "metadata": {},
   "outputs": [],
   "source": [
    "from sklearn.preprocessing import StandardScaler\n",
    "sc = StandardScaler()"
   ]
  },
  {
   "cell_type": "code",
   "execution_count": 24,
   "id": "8f52b4fb",
   "metadata": {},
   "outputs": [
    {
     "name": "stdout",
     "output_type": "stream",
     "text": [
      "[[-0.40562287  0.40562287  0.46531479 ...  1.47243614  2.2138449\n",
      "   1.72906501]\n",
      " [-0.40562287  0.40562287  0.46531479 ... -0.57470084  0.56780742\n",
      "  -0.79056181]\n",
      " [-0.40562287  0.40562287  0.46531479 ...  1.47243614  0.56780742\n",
      "   1.72906501]\n",
      " ...\n",
      " [-0.40562287  0.40562287  0.46531479 ... -0.57470084 -1.07823005\n",
      "  -0.79056181]\n",
      " [ 2.46534421 -2.46534421  0.46531479 ... -0.57470084 -1.07823005\n",
      "  -0.79056181]\n",
      " [-0.40562287  0.40562287  0.46531479 ... -0.57470084  0.56780742\n",
      "  -0.79056181]]\n"
     ]
    }
   ],
   "source": [
    "x=sc.fit_transform(x)\n",
    "\n",
    "# Display the scaled independent variables\n",
    "print(x)"
   ]
  },
  {
   "cell_type": "markdown",
   "id": "681b5139",
   "metadata": {},
   "source": [
    "## 10. Split the data into training and testing "
   ]
  },
  {
   "cell_type": "code",
   "execution_count": 25,
   "id": "4668602b",
   "metadata": {},
   "outputs": [],
   "source": [
    "from sklearn.model_selection import train_test_split\n",
    "\n",
    "x_train,x_test,y_train,y_test=train_test_split(x,y,test_size=0.20,random_state=42)"
   ]
  },
  {
   "cell_type": "code",
   "execution_count": 26,
   "id": "98d843aa",
   "metadata": {},
   "outputs": [
    {
     "data": {
      "text/plain": [
       "array([[-0.40562287,  0.40562287,  0.46531479, ...,  1.47243614,\n",
       "         0.56780742,  0.4692516 ],\n",
       "       [-0.40562287,  0.40562287,  0.46531479, ...,  1.47243614,\n",
       "        -1.07823005, -0.79056181],\n",
       "       [-0.40562287,  0.40562287,  0.46531479, ..., -0.57470084,\n",
       "        -1.07823005,  1.72906501],\n",
       "       ...,\n",
       "       [-0.40562287,  0.40562287,  0.46531479, ...,  1.47243614,\n",
       "         2.2138449 ,  0.4692516 ],\n",
       "       [-0.40562287,  0.40562287,  0.46531479, ..., -0.57470084,\n",
       "        -1.07823005, -0.79056181],\n",
       "       [-0.40562287,  0.40562287, -2.14908276, ...,  1.47243614,\n",
       "         0.56780742,  0.4692516 ]])"
      ]
     },
     "execution_count": 26,
     "metadata": {},
     "output_type": "execute_result"
    }
   ],
   "source": [
    "x_train"
   ]
  },
  {
   "cell_type": "code",
   "execution_count": 27,
   "id": "2cd260f1",
   "metadata": {},
   "outputs": [
    {
     "data": {
      "text/plain": [
       "array([0, 1, 0, 2, 2, 1, 2, 2, 2, 1, 1, 2, 0, 1, 0, 2, 1, 2, 2, 0, 0, 1,\n",
       "       1, 2, 0, 2, 2, 1, 1, 1, 1, 1, 0, 1, 2, 2, 2, 1, 1, 1, 1, 1, 2, 1,\n",
       "       2, 1, 1, 0, 0, 2, 2, 0, 1, 1, 1, 2, 1, 1, 1, 0, 1, 1, 1, 0, 1, 0,\n",
       "       0, 2, 0, 1, 1, 1, 0, 1, 1, 0, 1, 0, 1, 1, 2, 1, 2, 1, 1, 0, 2, 2,\n",
       "       1, 2, 0, 1, 1, 1, 1, 2, 1, 0, 2, 1, 1, 0, 1, 2, 0, 2, 1, 0, 0, 2,\n",
       "       0, 0, 0, 2, 1, 1, 1, 1, 0, 1, 2, 1, 1, 1, 0, 2, 1, 2, 2, 0, 0, 0,\n",
       "       2, 0, 2, 2, 1, 1, 1, 2, 0, 0, 0, 1, 1, 0, 1, 2, 0, 0, 0, 0, 1, 0,\n",
       "       1, 1, 1, 2, 2, 1, 2, 0, 0, 1, 0, 0, 0, 1, 0, 2, 1, 2, 1, 2, 2, 2,\n",
       "       1, 2, 0, 1, 0, 1, 2, 1, 0, 1, 0, 0, 0, 2, 0, 1, 1, 2, 2, 1, 1, 1,\n",
       "       1, 1, 1, 1, 2, 2, 1, 0, 1, 0, 0, 1, 2, 1, 2, 1, 2, 2, 2, 2, 1, 1,\n",
       "       0, 0, 1, 0, 1, 1, 0, 1, 1, 1, 1, 2, 2, 2, 0, 2, 2, 1, 1, 0, 1, 0,\n",
       "       1, 2, 2, 1, 2, 2, 2, 1, 2, 1, 2, 2, 0, 2, 2, 0, 1, 0, 0, 0, 0, 0,\n",
       "       2, 0, 1, 0, 2, 1, 1, 2, 2, 1, 1, 2, 1, 2, 1, 0, 1, 0, 0, 2, 2, 1,\n",
       "       1, 2, 1, 0, 1, 0, 0, 0, 0, 2, 1, 2, 1, 2, 1, 2, 1, 2, 1, 2, 0, 0,\n",
       "       1, 1, 1, 2, 1, 1, 1, 0, 1, 2, 2, 1, 1, 2, 1, 0, 2, 0, 2, 0, 2, 1,\n",
       "       0, 1, 1, 1, 0, 2, 1, 2, 1, 2, 0, 2, 2, 2, 1, 1, 1, 1, 2, 1, 2, 2,\n",
       "       2, 0, 1, 2, 0, 1, 1, 1, 0, 2, 0, 1, 0, 2, 1, 1, 0, 2, 2, 1, 1, 1,\n",
       "       1, 0, 2, 1, 0, 2, 2, 0, 0, 0, 2, 0, 1, 1, 1, 0, 1, 2, 1, 0, 2, 1,\n",
       "       2, 1, 1, 2, 2, 2, 1, 0, 1, 1, 2, 1, 2, 1, 2, 1, 2, 0, 1, 1, 2, 2,\n",
       "       0, 1, 1, 2, 2, 1, 1, 2, 2, 2, 1, 1, 1, 2, 1, 0, 2, 1])"
      ]
     },
     "execution_count": 27,
     "metadata": {},
     "output_type": "execute_result"
    }
   ],
   "source": [
    "y_train"
   ]
  },
  {
   "cell_type": "code",
   "execution_count": 28,
   "id": "ee0118de",
   "metadata": {},
   "outputs": [
    {
     "data": {
      "text/plain": [
       "(436,)"
      ]
     },
     "execution_count": 28,
     "metadata": {},
     "output_type": "execute_result"
    }
   ],
   "source": [
    "y_train.shape"
   ]
  },
  {
   "cell_type": "code",
   "execution_count": 29,
   "id": "e39abdff",
   "metadata": {},
   "outputs": [
    {
     "data": {
      "text/plain": [
       "array([[ 2.46534421, -2.46534421,  0.46531479, ...,  1.47243614,\n",
       "         0.56780742,  0.4692516 ],\n",
       "       [-0.40562287,  0.40562287,  0.46531479, ...,  1.47243614,\n",
       "         2.2138449 , -0.79056181],\n",
       "       [-0.40562287,  0.40562287,  0.46531479, ..., -0.57470084,\n",
       "        -1.07823005, -0.79056181],\n",
       "       ...,\n",
       "       [-0.40562287,  0.40562287,  0.46531479, ...,  1.47243614,\n",
       "         0.56780742,  0.4692516 ],\n",
       "       [-0.40562287,  0.40562287, -2.14908276, ...,  1.47243614,\n",
       "         0.56780742,  0.4692516 ],\n",
       "       [-0.40562287,  0.40562287,  0.46531479, ...,  1.47243614,\n",
       "        -1.07823005,  1.72906501]])"
      ]
     },
     "execution_count": 29,
     "metadata": {},
     "output_type": "execute_result"
    }
   ],
   "source": [
    "x_test"
   ]
  },
  {
   "cell_type": "code",
   "execution_count": 30,
   "id": "8ef5f9d7",
   "metadata": {},
   "outputs": [
    {
     "data": {
      "text/plain": [
       "(109, 16)"
      ]
     },
     "execution_count": 30,
     "metadata": {},
     "output_type": "execute_result"
    }
   ],
   "source": [
    "x_test.shape"
   ]
  },
  {
   "cell_type": "code",
   "execution_count": 31,
   "id": "c49bc08e",
   "metadata": {},
   "outputs": [
    {
     "data": {
      "text/plain": [
       "array([2, 0, 1, 1, 0, 2, 0, 0, 2, 0, 1, 2, 2, 1, 2, 2, 1, 2, 2, 1, 2, 1,\n",
       "       2, 2, 1, 1, 2, 0, 0, 0, 1, 2, 0, 1, 2, 1, 1, 2, 2, 0, 1, 2, 0, 0,\n",
       "       1, 2, 1, 1, 2, 2, 2, 2, 0, 1, 2, 0, 2, 2, 1, 2, 1, 2, 1, 2, 2, 1,\n",
       "       0, 2, 2, 0, 2, 1, 0, 0, 2, 1, 1, 1, 0, 2, 0, 1, 0, 2, 2, 2, 2, 1,\n",
       "       0, 1, 1, 0, 0, 1, 0, 0, 1, 2, 2, 1, 1, 0, 1, 1, 1, 0, 1, 1, 0])"
      ]
     },
     "execution_count": 31,
     "metadata": {},
     "output_type": "execute_result"
    }
   ],
   "source": [
    "y_test"
   ]
  },
  {
   "cell_type": "code",
   "execution_count": 32,
   "id": "ffa61106",
   "metadata": {},
   "outputs": [
    {
     "data": {
      "text/plain": [
       "(109,)"
      ]
     },
     "execution_count": 32,
     "metadata": {},
     "output_type": "execute_result"
    }
   ],
   "source": [
    "y_test.shape"
   ]
  },
  {
   "cell_type": "markdown",
   "id": "a8c0bc37",
   "metadata": {},
   "source": [
    "## Building a Regression Model"
   ]
  },
  {
   "cell_type": "markdown",
   "id": "d942e8e0",
   "metadata": {},
   "source": [
    "## 11. Build the Model"
   ]
  },
  {
   "cell_type": "code",
   "execution_count": 33,
   "id": "5f247bea",
   "metadata": {},
   "outputs": [],
   "source": [
    "from sklearn.svm import SVC"
   ]
  },
  {
   "cell_type": "code",
   "execution_count": 34,
   "id": "7fa0e4d8",
   "metadata": {},
   "outputs": [],
   "source": [
    "model=SVC(kernel='rbf')"
   ]
  },
  {
   "cell_type": "code",
   "execution_count": 35,
   "id": "d8450c30",
   "metadata": {},
   "outputs": [
    {
     "data": {
      "text/plain": [
       "SVC()"
      ]
     },
     "execution_count": 35,
     "metadata": {},
     "output_type": "execute_result"
    }
   ],
   "source": [
    "model"
   ]
  },
  {
   "cell_type": "markdown",
   "id": "44f84257",
   "metadata": {},
   "source": [
    "## 12. Train the Model"
   ]
  },
  {
   "cell_type": "code",
   "execution_count": 36,
   "id": "2841bad6",
   "metadata": {},
   "outputs": [],
   "source": [
    "# training the model\n",
    "fit=model.fit(x_train,y_train)"
   ]
  },
  {
   "cell_type": "markdown",
   "id": "22e5c869",
   "metadata": {},
   "source": [
    "## 13. Test the Model"
   ]
  },
  {
   "cell_type": "code",
   "execution_count": 37,
   "id": "3a130cf5",
   "metadata": {},
   "outputs": [],
   "source": [
    "# test the model\n",
    "pred=fit.predict(x_test)"
   ]
  },
  {
   "cell_type": "code",
   "execution_count": 38,
   "id": "4653d6ce",
   "metadata": {},
   "outputs": [
    {
     "data": {
      "text/plain": [
       "array([1, 0, 2, 1, 2, 1, 1, 1, 2, 2, 1, 2, 2, 1, 1, 1, 2, 1, 1, 2, 1, 1,\n",
       "       2, 1, 1, 1, 1, 1, 1, 2, 1, 1, 0, 2, 1, 1, 1, 1, 2, 1, 1, 2, 0, 1,\n",
       "       2, 1, 0, 1, 2, 0, 0, 2, 1, 1, 1, 2, 0, 2, 1, 2, 1, 1, 1, 0, 1, 1,\n",
       "       1, 1, 1, 0, 1, 1, 2, 1, 2, 1, 1, 1, 1, 2, 0, 1, 1, 1, 2, 1, 2, 1,\n",
       "       1, 1, 1, 0, 2, 1, 1, 0, 1, 0, 1, 1, 2, 0, 1, 1, 1, 1, 0, 0, 1])"
      ]
     },
     "execution_count": 38,
     "metadata": {},
     "output_type": "execute_result"
    }
   ],
   "source": [
    "pred"
   ]
  },
  {
   "cell_type": "code",
   "execution_count": 39,
   "id": "561d17e3",
   "metadata": {},
   "outputs": [
    {
     "data": {
      "text/plain": [
       "array([2, 0, 1, 1, 0, 2, 0, 0, 2, 0, 1, 2, 2, 1, 2, 2, 1, 2, 2, 1, 2, 1,\n",
       "       2, 2, 1, 1, 2, 0, 0, 0, 1, 2, 0, 1, 2, 1, 1, 2, 2, 0, 1, 2, 0, 0,\n",
       "       1, 2, 1, 1, 2, 2, 2, 2, 0, 1, 2, 0, 2, 2, 1, 2, 1, 2, 1, 2, 2, 1,\n",
       "       0, 2, 2, 0, 2, 1, 0, 0, 2, 1, 1, 1, 0, 2, 0, 1, 0, 2, 2, 2, 2, 1,\n",
       "       0, 1, 1, 0, 0, 1, 0, 0, 1, 2, 2, 1, 1, 0, 1, 1, 1, 0, 1, 1, 0])"
      ]
     },
     "execution_count": 39,
     "metadata": {},
     "output_type": "execute_result"
    }
   ],
   "source": [
    "y_test"
   ]
  },
  {
   "cell_type": "markdown",
   "id": "cba8dc50",
   "metadata": {},
   "source": [
    "## 14. Measure the performance using Metrics."
   ]
  },
  {
   "cell_type": "code",
   "execution_count": 40,
   "id": "d849ec95",
   "metadata": {},
   "outputs": [
    {
     "name": "stdout",
     "output_type": "stream",
     "text": [
      "confusion matrix:\n",
      " [[ 8 15  6]\n",
      " [ 3 30  6]\n",
      " [ 5 22 14]]\n",
      "accuracy: 0.47706422018348627\n"
     ]
    }
   ],
   "source": [
    "from sklearn.metrics import confusion_matrix, accuracy_score\n",
    "\n",
    "print(\"confusion matrix:\\n\",confusion_matrix(y_test,pred))\n",
    "print(\"accuracy:\",accuracy_score(y_test,pred))"
   ]
  },
  {
   "cell_type": "code",
   "execution_count": null,
   "id": "f283e95e",
   "metadata": {},
   "outputs": [],
   "source": []
  }
 ],
 "metadata": {
  "kernelspec": {
   "display_name": "Python 3 (ipykernel)",
   "language": "python",
   "name": "python3"
  },
  "language_info": {
   "codemirror_mode": {
    "name": "ipython",
    "version": 3
   },
   "file_extension": ".py",
   "mimetype": "text/x-python",
   "name": "python",
   "nbconvert_exporter": "python",
   "pygments_lexer": "ipython3",
   "version": "3.9.13"
  }
 },
 "nbformat": 4,
 "nbformat_minor": 5
}
